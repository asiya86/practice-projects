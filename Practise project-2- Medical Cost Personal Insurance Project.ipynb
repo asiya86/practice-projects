{
 "cells": [
  {
   "cell_type": "markdown",
   "id": "363dec82",
   "metadata": {},
   "source": [
    "Problem Statement:\n",
    "\n",
    "Medical Cost Personal Insurance Datasets\n",
    "Problem Statement: Insurance Forecast by using Regression Algorithms\n",
    "\n",
    "Health insurance is a type of insurance that covers medical expenses that arise due to an illness. These expenses could be related to hospitalisation costs, cost of medicines or doctor consultation fees. The main purpose of medical insurance is to receive the best medical care without any strain on your finances. Health insurance plans offer protection against high medical costs. It covers hospitalization expenses, day care procedures, domiciliary expenses, and ambulance charges, besides many others. Based on certain input features such as age , bmi,,no of dependents ,smoker ,region medical insurance is calculated .\n",
    "\n",
    "Predict : Charges: Can you accurately predict insurance costs?"
   ]
  },
  {
   "cell_type": "code",
   "execution_count": 1,
   "id": "a8ff17ff",
   "metadata": {},
   "outputs": [],
   "source": [
    "# importing required initial libraries\n",
    "import numpy as np\n",
    "import pandas as pd\n",
    "\n",
    "import warnings\n",
    "warnings.filterwarnings(\"ignore\")"
   ]
  },
  {
   "cell_type": "code",
   "execution_count": 2,
   "id": "64d6a481",
   "metadata": {},
   "outputs": [],
   "source": [
    "df=pd.read_csv(\"medical_cost_insurance.csv\")"
   ]
  },
  {
   "cell_type": "code",
   "execution_count": 3,
   "id": "eb6101c3",
   "metadata": {},
   "outputs": [
    {
     "data": {
      "text/html": [
       "<div>\n",
       "<style scoped>\n",
       "    .dataframe tbody tr th:only-of-type {\n",
       "        vertical-align: middle;\n",
       "    }\n",
       "\n",
       "    .dataframe tbody tr th {\n",
       "        vertical-align: top;\n",
       "    }\n",
       "\n",
       "    .dataframe thead th {\n",
       "        text-align: right;\n",
       "    }\n",
       "</style>\n",
       "<table border=\"1\" class=\"dataframe\">\n",
       "  <thead>\n",
       "    <tr style=\"text-align: right;\">\n",
       "      <th></th>\n",
       "      <th>age</th>\n",
       "      <th>sex</th>\n",
       "      <th>bmi</th>\n",
       "      <th>children</th>\n",
       "      <th>smoker</th>\n",
       "      <th>region</th>\n",
       "      <th>charges</th>\n",
       "    </tr>\n",
       "  </thead>\n",
       "  <tbody>\n",
       "    <tr>\n",
       "      <th>0</th>\n",
       "      <td>19</td>\n",
       "      <td>female</td>\n",
       "      <td>27.900</td>\n",
       "      <td>0</td>\n",
       "      <td>yes</td>\n",
       "      <td>southwest</td>\n",
       "      <td>16884.92400</td>\n",
       "    </tr>\n",
       "    <tr>\n",
       "      <th>1</th>\n",
       "      <td>18</td>\n",
       "      <td>male</td>\n",
       "      <td>33.770</td>\n",
       "      <td>1</td>\n",
       "      <td>no</td>\n",
       "      <td>southeast</td>\n",
       "      <td>1725.55230</td>\n",
       "    </tr>\n",
       "    <tr>\n",
       "      <th>2</th>\n",
       "      <td>28</td>\n",
       "      <td>male</td>\n",
       "      <td>33.000</td>\n",
       "      <td>3</td>\n",
       "      <td>no</td>\n",
       "      <td>southeast</td>\n",
       "      <td>4449.46200</td>\n",
       "    </tr>\n",
       "    <tr>\n",
       "      <th>3</th>\n",
       "      <td>33</td>\n",
       "      <td>male</td>\n",
       "      <td>22.705</td>\n",
       "      <td>0</td>\n",
       "      <td>no</td>\n",
       "      <td>northwest</td>\n",
       "      <td>21984.47061</td>\n",
       "    </tr>\n",
       "    <tr>\n",
       "      <th>4</th>\n",
       "      <td>32</td>\n",
       "      <td>male</td>\n",
       "      <td>28.880</td>\n",
       "      <td>0</td>\n",
       "      <td>no</td>\n",
       "      <td>northwest</td>\n",
       "      <td>3866.85520</td>\n",
       "    </tr>\n",
       "    <tr>\n",
       "      <th>...</th>\n",
       "      <td>...</td>\n",
       "      <td>...</td>\n",
       "      <td>...</td>\n",
       "      <td>...</td>\n",
       "      <td>...</td>\n",
       "      <td>...</td>\n",
       "      <td>...</td>\n",
       "    </tr>\n",
       "    <tr>\n",
       "      <th>1333</th>\n",
       "      <td>50</td>\n",
       "      <td>male</td>\n",
       "      <td>30.970</td>\n",
       "      <td>3</td>\n",
       "      <td>no</td>\n",
       "      <td>northwest</td>\n",
       "      <td>10600.54830</td>\n",
       "    </tr>\n",
       "    <tr>\n",
       "      <th>1334</th>\n",
       "      <td>18</td>\n",
       "      <td>female</td>\n",
       "      <td>31.920</td>\n",
       "      <td>0</td>\n",
       "      <td>no</td>\n",
       "      <td>northeast</td>\n",
       "      <td>2205.98080</td>\n",
       "    </tr>\n",
       "    <tr>\n",
       "      <th>1335</th>\n",
       "      <td>18</td>\n",
       "      <td>female</td>\n",
       "      <td>36.850</td>\n",
       "      <td>0</td>\n",
       "      <td>no</td>\n",
       "      <td>southeast</td>\n",
       "      <td>1629.83350</td>\n",
       "    </tr>\n",
       "    <tr>\n",
       "      <th>1336</th>\n",
       "      <td>21</td>\n",
       "      <td>female</td>\n",
       "      <td>25.800</td>\n",
       "      <td>0</td>\n",
       "      <td>no</td>\n",
       "      <td>southwest</td>\n",
       "      <td>2007.94500</td>\n",
       "    </tr>\n",
       "    <tr>\n",
       "      <th>1337</th>\n",
       "      <td>61</td>\n",
       "      <td>female</td>\n",
       "      <td>29.070</td>\n",
       "      <td>0</td>\n",
       "      <td>yes</td>\n",
       "      <td>northwest</td>\n",
       "      <td>29141.36030</td>\n",
       "    </tr>\n",
       "  </tbody>\n",
       "</table>\n",
       "<p>1338 rows × 7 columns</p>\n",
       "</div>"
      ],
      "text/plain": [
       "      age     sex     bmi  children smoker     region      charges\n",
       "0      19  female  27.900         0    yes  southwest  16884.92400\n",
       "1      18    male  33.770         1     no  southeast   1725.55230\n",
       "2      28    male  33.000         3     no  southeast   4449.46200\n",
       "3      33    male  22.705         0     no  northwest  21984.47061\n",
       "4      32    male  28.880         0     no  northwest   3866.85520\n",
       "...   ...     ...     ...       ...    ...        ...          ...\n",
       "1333   50    male  30.970         3     no  northwest  10600.54830\n",
       "1334   18  female  31.920         0     no  northeast   2205.98080\n",
       "1335   18  female  36.850         0     no  southeast   1629.83350\n",
       "1336   21  female  25.800         0     no  southwest   2007.94500\n",
       "1337   61  female  29.070         0    yes  northwest  29141.36030\n",
       "\n",
       "[1338 rows x 7 columns]"
      ]
     },
     "execution_count": 3,
     "metadata": {},
     "output_type": "execute_result"
    }
   ],
   "source": [
    "df"
   ]
  },
  {
   "cell_type": "code",
   "execution_count": 7,
   "id": "235119b4",
   "metadata": {},
   "outputs": [
    {
     "data": {
      "text/plain": [
       "(1338, 7)"
      ]
     },
     "execution_count": 7,
     "metadata": {},
     "output_type": "execute_result"
    }
   ],
   "source": [
    "df.shape"
   ]
  },
  {
   "cell_type": "code",
   "execution_count": 120,
   "id": "8ac88889",
   "metadata": {},
   "outputs": [],
   "source": [
    "# There are 1338 rows and 7 columns- Data set is not huge."
   ]
  },
  {
   "cell_type": "code",
   "execution_count": 4,
   "id": "60ba1e8f",
   "metadata": {},
   "outputs": [
    {
     "data": {
      "text/html": [
       "<div>\n",
       "<style scoped>\n",
       "    .dataframe tbody tr th:only-of-type {\n",
       "        vertical-align: middle;\n",
       "    }\n",
       "\n",
       "    .dataframe tbody tr th {\n",
       "        vertical-align: top;\n",
       "    }\n",
       "\n",
       "    .dataframe thead th {\n",
       "        text-align: right;\n",
       "    }\n",
       "</style>\n",
       "<table border=\"1\" class=\"dataframe\">\n",
       "  <thead>\n",
       "    <tr style=\"text-align: right;\">\n",
       "      <th></th>\n",
       "      <th>age</th>\n",
       "      <th>sex</th>\n",
       "      <th>bmi</th>\n",
       "      <th>children</th>\n",
       "      <th>smoker</th>\n",
       "      <th>region</th>\n",
       "      <th>charges</th>\n",
       "    </tr>\n",
       "  </thead>\n",
       "  <tbody>\n",
       "    <tr>\n",
       "      <th>0</th>\n",
       "      <td>19</td>\n",
       "      <td>female</td>\n",
       "      <td>27.900</td>\n",
       "      <td>0</td>\n",
       "      <td>yes</td>\n",
       "      <td>southwest</td>\n",
       "      <td>16884.92400</td>\n",
       "    </tr>\n",
       "    <tr>\n",
       "      <th>1</th>\n",
       "      <td>18</td>\n",
       "      <td>male</td>\n",
       "      <td>33.770</td>\n",
       "      <td>1</td>\n",
       "      <td>no</td>\n",
       "      <td>southeast</td>\n",
       "      <td>1725.55230</td>\n",
       "    </tr>\n",
       "    <tr>\n",
       "      <th>2</th>\n",
       "      <td>28</td>\n",
       "      <td>male</td>\n",
       "      <td>33.000</td>\n",
       "      <td>3</td>\n",
       "      <td>no</td>\n",
       "      <td>southeast</td>\n",
       "      <td>4449.46200</td>\n",
       "    </tr>\n",
       "    <tr>\n",
       "      <th>3</th>\n",
       "      <td>33</td>\n",
       "      <td>male</td>\n",
       "      <td>22.705</td>\n",
       "      <td>0</td>\n",
       "      <td>no</td>\n",
       "      <td>northwest</td>\n",
       "      <td>21984.47061</td>\n",
       "    </tr>\n",
       "    <tr>\n",
       "      <th>4</th>\n",
       "      <td>32</td>\n",
       "      <td>male</td>\n",
       "      <td>28.880</td>\n",
       "      <td>0</td>\n",
       "      <td>no</td>\n",
       "      <td>northwest</td>\n",
       "      <td>3866.85520</td>\n",
       "    </tr>\n",
       "  </tbody>\n",
       "</table>\n",
       "</div>"
      ],
      "text/plain": [
       "   age     sex     bmi  children smoker     region      charges\n",
       "0   19  female  27.900         0    yes  southwest  16884.92400\n",
       "1   18    male  33.770         1     no  southeast   1725.55230\n",
       "2   28    male  33.000         3     no  southeast   4449.46200\n",
       "3   33    male  22.705         0     no  northwest  21984.47061\n",
       "4   32    male  28.880         0     no  northwest   3866.85520"
      ]
     },
     "execution_count": 4,
     "metadata": {},
     "output_type": "execute_result"
    }
   ],
   "source": [
    "df.head()    \n"
   ]
  },
  {
   "cell_type": "code",
   "execution_count": 5,
   "id": "e0a337eb",
   "metadata": {},
   "outputs": [
    {
     "data": {
      "text/html": [
       "<div>\n",
       "<style scoped>\n",
       "    .dataframe tbody tr th:only-of-type {\n",
       "        vertical-align: middle;\n",
       "    }\n",
       "\n",
       "    .dataframe tbody tr th {\n",
       "        vertical-align: top;\n",
       "    }\n",
       "\n",
       "    .dataframe thead th {\n",
       "        text-align: right;\n",
       "    }\n",
       "</style>\n",
       "<table border=\"1\" class=\"dataframe\">\n",
       "  <thead>\n",
       "    <tr style=\"text-align: right;\">\n",
       "      <th></th>\n",
       "      <th>age</th>\n",
       "      <th>sex</th>\n",
       "      <th>bmi</th>\n",
       "      <th>children</th>\n",
       "      <th>smoker</th>\n",
       "      <th>region</th>\n",
       "      <th>charges</th>\n",
       "    </tr>\n",
       "  </thead>\n",
       "  <tbody>\n",
       "    <tr>\n",
       "      <th>1333</th>\n",
       "      <td>50</td>\n",
       "      <td>male</td>\n",
       "      <td>30.97</td>\n",
       "      <td>3</td>\n",
       "      <td>no</td>\n",
       "      <td>northwest</td>\n",
       "      <td>10600.5483</td>\n",
       "    </tr>\n",
       "    <tr>\n",
       "      <th>1334</th>\n",
       "      <td>18</td>\n",
       "      <td>female</td>\n",
       "      <td>31.92</td>\n",
       "      <td>0</td>\n",
       "      <td>no</td>\n",
       "      <td>northeast</td>\n",
       "      <td>2205.9808</td>\n",
       "    </tr>\n",
       "    <tr>\n",
       "      <th>1335</th>\n",
       "      <td>18</td>\n",
       "      <td>female</td>\n",
       "      <td>36.85</td>\n",
       "      <td>0</td>\n",
       "      <td>no</td>\n",
       "      <td>southeast</td>\n",
       "      <td>1629.8335</td>\n",
       "    </tr>\n",
       "    <tr>\n",
       "      <th>1336</th>\n",
       "      <td>21</td>\n",
       "      <td>female</td>\n",
       "      <td>25.80</td>\n",
       "      <td>0</td>\n",
       "      <td>no</td>\n",
       "      <td>southwest</td>\n",
       "      <td>2007.9450</td>\n",
       "    </tr>\n",
       "    <tr>\n",
       "      <th>1337</th>\n",
       "      <td>61</td>\n",
       "      <td>female</td>\n",
       "      <td>29.07</td>\n",
       "      <td>0</td>\n",
       "      <td>yes</td>\n",
       "      <td>northwest</td>\n",
       "      <td>29141.3603</td>\n",
       "    </tr>\n",
       "  </tbody>\n",
       "</table>\n",
       "</div>"
      ],
      "text/plain": [
       "      age     sex    bmi  children smoker     region     charges\n",
       "1333   50    male  30.97         3     no  northwest  10600.5483\n",
       "1334   18  female  31.92         0     no  northeast   2205.9808\n",
       "1335   18  female  36.85         0     no  southeast   1629.8335\n",
       "1336   21  female  25.80         0     no  southwest   2007.9450\n",
       "1337   61  female  29.07         0    yes  northwest  29141.3603"
      ]
     },
     "execution_count": 5,
     "metadata": {},
     "output_type": "execute_result"
    }
   ],
   "source": [
    "df.tail()"
   ]
  },
  {
   "cell_type": "code",
   "execution_count": 6,
   "id": "6044bfe8",
   "metadata": {},
   "outputs": [
    {
     "data": {
      "text/plain": [
       "Index(['age', 'sex', 'bmi', 'children', 'smoker', 'region', 'charges'], dtype='object')"
      ]
     },
     "execution_count": 6,
     "metadata": {},
     "output_type": "execute_result"
    }
   ],
   "source": [
    "df.columns"
   ]
  },
  {
   "cell_type": "code",
   "execution_count": 103,
   "id": "33e750e1",
   "metadata": {},
   "outputs": [],
   "source": [
    "# Info about columns:\n",
    "\n",
    "# 1) 'age': age of primary beneficiary\n",
    "# 2) 'sex': insurance contractor gender: female, male\n",
    "#3) 'bmi': Body mass index, providing an understanding of body, weights that are relatively high or low relative to #height, objective index of body weight (kg / m ^ 2) using the ratio of height to weight, ideally 18.5 to 24.9.\n",
    "#4) 'children': Number of children covered by health insurance / Number of dependents\n",
    "#5) 'smoker': beneficiary is a smoker or non smoker\n",
    "#6) 'region': the beneficiary's residential area in the US, northeast, southeast, southwest, northwest.\n",
    "\n",
    "#7) charges: Individual medical costs billed by health insurance\n",
    "\n",
    "#**** Charges is our Target variable\n"
   ]
  },
  {
   "cell_type": "code",
   "execution_count": 8,
   "id": "2c05a943",
   "metadata": {},
   "outputs": [
    {
     "name": "stdout",
     "output_type": "stream",
     "text": [
      "<class 'pandas.core.frame.DataFrame'>\n",
      "RangeIndex: 1338 entries, 0 to 1337\n",
      "Data columns (total 7 columns):\n",
      " #   Column    Non-Null Count  Dtype  \n",
      "---  ------    --------------  -----  \n",
      " 0   age       1338 non-null   int64  \n",
      " 1   sex       1338 non-null   object \n",
      " 2   bmi       1338 non-null   float64\n",
      " 3   children  1338 non-null   int64  \n",
      " 4   smoker    1338 non-null   object \n",
      " 5   region    1338 non-null   object \n",
      " 6   charges   1338 non-null   float64\n",
      "dtypes: float64(2), int64(2), object(3)\n",
      "memory usage: 73.3+ KB\n"
     ]
    }
   ],
   "source": [
    "# Checking df information\n",
    "\n",
    "df.info()"
   ]
  },
  {
   "cell_type": "code",
   "execution_count": 9,
   "id": "afc7407e",
   "metadata": {},
   "outputs": [
    {
     "data": {
      "text/plain": [
       "age           int64\n",
       "sex          object\n",
       "bmi         float64\n",
       "children      int64\n",
       "smoker       object\n",
       "region       object\n",
       "charges     float64\n",
       "dtype: object"
      ]
     },
     "execution_count": 9,
     "metadata": {},
     "output_type": "execute_result"
    }
   ],
   "source": [
    "# checking df data types\n",
    "\n",
    "df.dtypes"
   ]
  },
  {
   "cell_type": "code",
   "execution_count": 104,
   "id": "5d55dd7d",
   "metadata": {},
   "outputs": [],
   "source": [
    "#Observations: \n",
    "\n",
    "#sex,smoker and region are object data type and we will be changing it later.\n",
    "\n",
    "#Eventhough \"children\" is categorical in nature, data type is \"int64\" as the values in the column are integers, hence #it is fine and no need to change the data type."
   ]
  },
  {
   "cell_type": "markdown",
   "id": "2c680b6f",
   "metadata": {},
   "source": [
    "# Null Values Check"
   ]
  },
  {
   "cell_type": "code",
   "execution_count": 10,
   "id": "2661fe86",
   "metadata": {},
   "outputs": [
    {
     "data": {
      "text/plain": [
       "age         0\n",
       "sex         0\n",
       "bmi         0\n",
       "children    0\n",
       "smoker      0\n",
       "region      0\n",
       "charges     0\n",
       "dtype: int64"
      ]
     },
     "execution_count": 10,
     "metadata": {},
     "output_type": "execute_result"
    }
   ],
   "source": [
    "# Checking the sum of null values for all columns\n",
    "\n",
    "df.isnull().sum()"
   ]
  },
  {
   "cell_type": "code",
   "execution_count": 105,
   "id": "25f37d89",
   "metadata": {},
   "outputs": [],
   "source": [
    "#Observation: Null Values are zero in all the columns"
   ]
  },
  {
   "cell_type": "code",
   "execution_count": 11,
   "id": "01d8b3c3",
   "metadata": {},
   "outputs": [
    {
     "data": {
      "text/plain": [
       "0"
      ]
     },
     "execution_count": 11,
     "metadata": {},
     "output_type": "execute_result"
    }
   ],
   "source": [
    "# checking the total sum of null values for entire dataset\n",
    "\n",
    "df.isnull().sum().sum()"
   ]
  },
  {
   "cell_type": "code",
   "execution_count": 106,
   "id": "0cfd684e",
   "metadata": {},
   "outputs": [],
   "source": [
    "#Observations: Null values are zero in the entire dataset"
   ]
  },
  {
   "cell_type": "code",
   "execution_count": 13,
   "id": "e4f61e66",
   "metadata": {},
   "outputs": [
    {
     "data": {
      "text/html": [
       "<div>\n",
       "<style scoped>\n",
       "    .dataframe tbody tr th:only-of-type {\n",
       "        vertical-align: middle;\n",
       "    }\n",
       "\n",
       "    .dataframe tbody tr th {\n",
       "        vertical-align: top;\n",
       "    }\n",
       "\n",
       "    .dataframe thead th {\n",
       "        text-align: right;\n",
       "    }\n",
       "</style>\n",
       "<table border=\"1\" class=\"dataframe\">\n",
       "  <thead>\n",
       "    <tr style=\"text-align: right;\">\n",
       "      <th></th>\n",
       "      <th>age</th>\n",
       "      <th>sex</th>\n",
       "      <th>bmi</th>\n",
       "      <th>children</th>\n",
       "      <th>smoker</th>\n",
       "      <th>region</th>\n",
       "      <th>charges</th>\n",
       "    </tr>\n",
       "  </thead>\n",
       "  <tbody>\n",
       "    <tr>\n",
       "      <th>0</th>\n",
       "      <td>19</td>\n",
       "      <td>female</td>\n",
       "      <td>27.900</td>\n",
       "      <td>0</td>\n",
       "      <td>yes</td>\n",
       "      <td>southwest</td>\n",
       "      <td>16884.92400</td>\n",
       "    </tr>\n",
       "    <tr>\n",
       "      <th>1</th>\n",
       "      <td>18</td>\n",
       "      <td>male</td>\n",
       "      <td>33.770</td>\n",
       "      <td>1</td>\n",
       "      <td>no</td>\n",
       "      <td>southeast</td>\n",
       "      <td>1725.55230</td>\n",
       "    </tr>\n",
       "    <tr>\n",
       "      <th>2</th>\n",
       "      <td>28</td>\n",
       "      <td>male</td>\n",
       "      <td>33.000</td>\n",
       "      <td>3</td>\n",
       "      <td>no</td>\n",
       "      <td>southeast</td>\n",
       "      <td>4449.46200</td>\n",
       "    </tr>\n",
       "    <tr>\n",
       "      <th>3</th>\n",
       "      <td>33</td>\n",
       "      <td>male</td>\n",
       "      <td>22.705</td>\n",
       "      <td>0</td>\n",
       "      <td>no</td>\n",
       "      <td>northwest</td>\n",
       "      <td>21984.47061</td>\n",
       "    </tr>\n",
       "    <tr>\n",
       "      <th>4</th>\n",
       "      <td>32</td>\n",
       "      <td>male</td>\n",
       "      <td>28.880</td>\n",
       "      <td>0</td>\n",
       "      <td>no</td>\n",
       "      <td>northwest</td>\n",
       "      <td>3866.85520</td>\n",
       "    </tr>\n",
       "    <tr>\n",
       "      <th>...</th>\n",
       "      <td>...</td>\n",
       "      <td>...</td>\n",
       "      <td>...</td>\n",
       "      <td>...</td>\n",
       "      <td>...</td>\n",
       "      <td>...</td>\n",
       "      <td>...</td>\n",
       "    </tr>\n",
       "    <tr>\n",
       "      <th>1333</th>\n",
       "      <td>50</td>\n",
       "      <td>male</td>\n",
       "      <td>30.970</td>\n",
       "      <td>3</td>\n",
       "      <td>no</td>\n",
       "      <td>northwest</td>\n",
       "      <td>10600.54830</td>\n",
       "    </tr>\n",
       "    <tr>\n",
       "      <th>1334</th>\n",
       "      <td>18</td>\n",
       "      <td>female</td>\n",
       "      <td>31.920</td>\n",
       "      <td>0</td>\n",
       "      <td>no</td>\n",
       "      <td>northeast</td>\n",
       "      <td>2205.98080</td>\n",
       "    </tr>\n",
       "    <tr>\n",
       "      <th>1335</th>\n",
       "      <td>18</td>\n",
       "      <td>female</td>\n",
       "      <td>36.850</td>\n",
       "      <td>0</td>\n",
       "      <td>no</td>\n",
       "      <td>southeast</td>\n",
       "      <td>1629.83350</td>\n",
       "    </tr>\n",
       "    <tr>\n",
       "      <th>1336</th>\n",
       "      <td>21</td>\n",
       "      <td>female</td>\n",
       "      <td>25.800</td>\n",
       "      <td>0</td>\n",
       "      <td>no</td>\n",
       "      <td>southwest</td>\n",
       "      <td>2007.94500</td>\n",
       "    </tr>\n",
       "    <tr>\n",
       "      <th>1337</th>\n",
       "      <td>61</td>\n",
       "      <td>female</td>\n",
       "      <td>29.070</td>\n",
       "      <td>0</td>\n",
       "      <td>yes</td>\n",
       "      <td>northwest</td>\n",
       "      <td>29141.36030</td>\n",
       "    </tr>\n",
       "  </tbody>\n",
       "</table>\n",
       "<p>1337 rows × 7 columns</p>\n",
       "</div>"
      ],
      "text/plain": [
       "      age     sex     bmi  children smoker     region      charges\n",
       "0      19  female  27.900         0    yes  southwest  16884.92400\n",
       "1      18    male  33.770         1     no  southeast   1725.55230\n",
       "2      28    male  33.000         3     no  southeast   4449.46200\n",
       "3      33    male  22.705         0     no  northwest  21984.47061\n",
       "4      32    male  28.880         0     no  northwest   3866.85520\n",
       "...   ...     ...     ...       ...    ...        ...          ...\n",
       "1333   50    male  30.970         3     no  northwest  10600.54830\n",
       "1334   18  female  31.920         0     no  northeast   2205.98080\n",
       "1335   18  female  36.850         0     no  southeast   1629.83350\n",
       "1336   21  female  25.800         0     no  southwest   2007.94500\n",
       "1337   61  female  29.070         0    yes  northwest  29141.36030\n",
       "\n",
       "[1337 rows x 7 columns]"
      ]
     },
     "execution_count": 13,
     "metadata": {},
     "output_type": "execute_result"
    }
   ],
   "source": [
    "# Deleting any duplicate values\n",
    "df.drop_duplicates()"
   ]
  },
  {
   "cell_type": "markdown",
   "id": "aefa6e7d",
   "metadata": {},
   "source": [
    "# Statistical Summary"
   ]
  },
  {
   "cell_type": "code",
   "execution_count": 14,
   "id": "1bca1505",
   "metadata": {},
   "outputs": [
    {
     "data": {
      "text/html": [
       "<div>\n",
       "<style scoped>\n",
       "    .dataframe tbody tr th:only-of-type {\n",
       "        vertical-align: middle;\n",
       "    }\n",
       "\n",
       "    .dataframe tbody tr th {\n",
       "        vertical-align: top;\n",
       "    }\n",
       "\n",
       "    .dataframe thead th {\n",
       "        text-align: right;\n",
       "    }\n",
       "</style>\n",
       "<table border=\"1\" class=\"dataframe\">\n",
       "  <thead>\n",
       "    <tr style=\"text-align: right;\">\n",
       "      <th></th>\n",
       "      <th>age</th>\n",
       "      <th>bmi</th>\n",
       "      <th>children</th>\n",
       "      <th>charges</th>\n",
       "    </tr>\n",
       "  </thead>\n",
       "  <tbody>\n",
       "    <tr>\n",
       "      <th>count</th>\n",
       "      <td>1338.000000</td>\n",
       "      <td>1338.000000</td>\n",
       "      <td>1338.000000</td>\n",
       "      <td>1338.000000</td>\n",
       "    </tr>\n",
       "    <tr>\n",
       "      <th>mean</th>\n",
       "      <td>39.207025</td>\n",
       "      <td>30.663397</td>\n",
       "      <td>1.094918</td>\n",
       "      <td>13270.422265</td>\n",
       "    </tr>\n",
       "    <tr>\n",
       "      <th>std</th>\n",
       "      <td>14.049960</td>\n",
       "      <td>6.098187</td>\n",
       "      <td>1.205493</td>\n",
       "      <td>12110.011237</td>\n",
       "    </tr>\n",
       "    <tr>\n",
       "      <th>min</th>\n",
       "      <td>18.000000</td>\n",
       "      <td>15.960000</td>\n",
       "      <td>0.000000</td>\n",
       "      <td>1121.873900</td>\n",
       "    </tr>\n",
       "    <tr>\n",
       "      <th>25%</th>\n",
       "      <td>27.000000</td>\n",
       "      <td>26.296250</td>\n",
       "      <td>0.000000</td>\n",
       "      <td>4740.287150</td>\n",
       "    </tr>\n",
       "    <tr>\n",
       "      <th>50%</th>\n",
       "      <td>39.000000</td>\n",
       "      <td>30.400000</td>\n",
       "      <td>1.000000</td>\n",
       "      <td>9382.033000</td>\n",
       "    </tr>\n",
       "    <tr>\n",
       "      <th>75%</th>\n",
       "      <td>51.000000</td>\n",
       "      <td>34.693750</td>\n",
       "      <td>2.000000</td>\n",
       "      <td>16639.912515</td>\n",
       "    </tr>\n",
       "    <tr>\n",
       "      <th>max</th>\n",
       "      <td>64.000000</td>\n",
       "      <td>53.130000</td>\n",
       "      <td>5.000000</td>\n",
       "      <td>63770.428010</td>\n",
       "    </tr>\n",
       "  </tbody>\n",
       "</table>\n",
       "</div>"
      ],
      "text/plain": [
       "               age          bmi     children       charges\n",
       "count  1338.000000  1338.000000  1338.000000   1338.000000\n",
       "mean     39.207025    30.663397     1.094918  13270.422265\n",
       "std      14.049960     6.098187     1.205493  12110.011237\n",
       "min      18.000000    15.960000     0.000000   1121.873900\n",
       "25%      27.000000    26.296250     0.000000   4740.287150\n",
       "50%      39.000000    30.400000     1.000000   9382.033000\n",
       "75%      51.000000    34.693750     2.000000  16639.912515\n",
       "max      64.000000    53.130000     5.000000  63770.428010"
      ]
     },
     "execution_count": 14,
     "metadata": {},
     "output_type": "execute_result"
    }
   ],
   "source": [
    "# statistical summary for discrete/continuous data\n",
    "\n",
    "df.describe()"
   ]
  },
  {
   "cell_type": "code",
   "execution_count": 107,
   "id": "606c3d6c",
   "metadata": {},
   "outputs": [],
   "source": [
    "#Observations:\n",
    "\n",
    "#1) All columns have same count, hence no null value in the dataset\n",
    "\n",
    "#2) Difference between 75% and Max for \"BMI' so there might be some outliers present"
   ]
  },
  {
   "cell_type": "code",
   "execution_count": 15,
   "id": "0b467ab4",
   "metadata": {},
   "outputs": [
    {
     "data": {
      "text/html": [
       "<div>\n",
       "<style scoped>\n",
       "    .dataframe tbody tr th:only-of-type {\n",
       "        vertical-align: middle;\n",
       "    }\n",
       "\n",
       "    .dataframe tbody tr th {\n",
       "        vertical-align: top;\n",
       "    }\n",
       "\n",
       "    .dataframe thead th {\n",
       "        text-align: right;\n",
       "    }\n",
       "</style>\n",
       "<table border=\"1\" class=\"dataframe\">\n",
       "  <thead>\n",
       "    <tr style=\"text-align: right;\">\n",
       "      <th></th>\n",
       "      <th>sex</th>\n",
       "      <th>smoker</th>\n",
       "      <th>region</th>\n",
       "    </tr>\n",
       "  </thead>\n",
       "  <tbody>\n",
       "    <tr>\n",
       "      <th>count</th>\n",
       "      <td>1338</td>\n",
       "      <td>1338</td>\n",
       "      <td>1338</td>\n",
       "    </tr>\n",
       "    <tr>\n",
       "      <th>unique</th>\n",
       "      <td>2</td>\n",
       "      <td>2</td>\n",
       "      <td>4</td>\n",
       "    </tr>\n",
       "    <tr>\n",
       "      <th>top</th>\n",
       "      <td>male</td>\n",
       "      <td>no</td>\n",
       "      <td>southeast</td>\n",
       "    </tr>\n",
       "    <tr>\n",
       "      <th>freq</th>\n",
       "      <td>676</td>\n",
       "      <td>1064</td>\n",
       "      <td>364</td>\n",
       "    </tr>\n",
       "  </tbody>\n",
       "</table>\n",
       "</div>"
      ],
      "text/plain": [
       "         sex smoker     region\n",
       "count   1338   1338       1338\n",
       "unique     2      2          4\n",
       "top     male     no  southeast\n",
       "freq     676   1064        364"
      ]
     },
     "execution_count": 15,
     "metadata": {},
     "output_type": "execute_result"
    }
   ],
   "source": [
    "# statistical summary for Object data\n",
    "\n",
    "df.describe(include=['O'])"
   ]
  },
  {
   "cell_type": "code",
   "execution_count": 108,
   "id": "fb350267",
   "metadata": {},
   "outputs": [],
   "source": [
    "#Observations:\n",
    "\n",
    "#1) Count is the same, hence no null value present\n",
    "#2) Unique value present are : Sex has 2 , Smoker has 2 and region has 4\n",
    "#3) Mode of columns: sex --> male, smoker -->no, region --> southeast\n",
    "#4) Frequency of mode value of columns: sex --> 676, smoker -->1064, region --> 364"
   ]
  },
  {
   "cell_type": "markdown",
   "id": "fd633b1a",
   "metadata": {},
   "source": [
    "# Visualization of data"
   ]
  },
  {
   "cell_type": "code",
   "execution_count": 16,
   "id": "c7b167bf",
   "metadata": {},
   "outputs": [
    {
     "data": {
      "text/plain": [
       "Index(['age', 'sex', 'bmi', 'children', 'smoker', 'region', 'charges'], dtype='object')"
      ]
     },
     "execution_count": 16,
     "metadata": {},
     "output_type": "execute_result"
    }
   ],
   "source": [
    "df.columns"
   ]
  },
  {
   "cell_type": "code",
   "execution_count": 17,
   "id": "d69090d8",
   "metadata": {},
   "outputs": [
    {
     "data": {
      "image/png": "[encoded data removed]",
      "text/plain": [
       "<Figure size 360x360 with 1 Axes>"
      ]
     },
     "metadata": {
      "needs_background": "light"
     },
     "output_type": "display_data"
    }
   ],
   "source": [
    "# Checking the distribution of continuous data\n",
    "\n",
    "import seaborn as sns\n",
    "import matplotlib.pyplot as plt\n",
    "sns.displot(df[\"age\"],kde=True)\n",
    "plt.show()"
   ]
  },
  {
   "cell_type": "code",
   "execution_count": 102,
   "id": "89413f36",
   "metadata": {},
   "outputs": [
    {
     "data": {
      "image/png": "[encoded data removed]",
      "text/plain": [
       "<Figure size 1224x504 with 2 Axes>"
      ]
     },
     "metadata": {},
     "output_type": "display_data"
    }
   ],
   "source": [
    "features = ['age', 'bmi']\n",
    "  \n",
    "plt.subplots(figsize=(17, 7))\n",
    "for i, col in enumerate(features):\n",
    "    plt.subplot(1, 2, i + 1)\n",
    "    sns.distplot(df[col])\n",
    "plt.show()"
   ]
  },
  {
   "cell_type": "code",
   "execution_count": 109,
   "id": "cfc3f08f",
   "metadata": {},
   "outputs": [],
   "source": [
    "#Observation:looks like both are normally distrubuted"
   ]
  },
  {
   "cell_type": "code",
   "execution_count": 19,
   "id": "c38f5d6f",
   "metadata": {},
   "outputs": [
    {
     "name": "stdout",
     "output_type": "stream",
     "text": [
      "male      676\n",
      "female    662\n",
      "Name: sex, dtype: int64\n"
     ]
    },
    {
     "data": {
      "image/png": "[encoded data removed]",
      "text/plain": [
       "<Figure size 432x288 with 1 Axes>"
      ]
     },
     "metadata": {
      "needs_background": "light"
     },
     "output_type": "display_data"
    }
   ],
   "source": [
    "# Checking the count of categorical data\n",
    "\n",
    "print(df[\"sex\"].value_counts())\n",
    "sns.countplot(df[\"sex\"])\n",
    "plt.show()"
   ]
  },
  {
   "cell_type": "code",
   "execution_count": 110,
   "id": "57bcf423",
   "metadata": {},
   "outputs": [],
   "source": [
    "#Observations: \n",
    "#Total no. of males are 676 and the totla no. of females are 662. Data is a balanced data."
   ]
  },
  {
   "cell_type": "code",
   "execution_count": 20,
   "id": "7f84f235",
   "metadata": {},
   "outputs": [
    {
     "name": "stdout",
     "output_type": "stream",
     "text": [
      "0    574\n",
      "1    324\n",
      "2    240\n",
      "3    157\n",
      "4     25\n",
      "5     18\n",
      "Name: children, dtype: int64\n"
     ]
    },
    {
     "data": {
      "image/png": "[encoded data removed]",
      "text/plain": [
       "<Figure size 432x288 with 1 Axes>"
      ]
     },
     "metadata": {
      "needs_background": "light"
     },
     "output_type": "display_data"
    }
   ],
   "source": [
    "print(df[\"children\"].value_counts())\n",
    "sns.countplot(df[\"children\"])\n",
    "plt.show()"
   ]
  },
  {
   "cell_type": "raw",
   "id": "e326cfe3",
   "metadata": {},
   "source": [
    "Observations: \n",
    "Total no. of 0 dependents: 1,\n",
    "Total no. of 1 dependent: 324\n",
    "Total no. of 2 dependents: 240\n",
    "Total no. of 3 dependents: 157 \n",
    "Total no. of 4 dependents: 25\n",
    "Total no. of 5 dependents: 18"
   ]
  },
  {
   "cell_type": "code",
   "execution_count": 21,
   "id": "62dc0ce9",
   "metadata": {},
   "outputs": [
    {
     "name": "stdout",
     "output_type": "stream",
     "text": [
      "no     1064\n",
      "yes     274\n",
      "Name: smoker, dtype: int64\n"
     ]
    },
    {
     "data": {
      "image/png": "[encoded data removed]",
      "text/plain": [
       "<Figure size 432x288 with 1 Axes>"
      ]
     },
     "metadata": {
      "needs_background": "light"
     },
     "output_type": "display_data"
    }
   ],
   "source": [
    "print(df[\"smoker\"].value_counts())\n",
    "sns.countplot(df[\"smoker\"])\n",
    "plt.show()"
   ]
  },
  {
   "cell_type": "raw",
   "id": "58ff2058",
   "metadata": {},
   "source": [
    "Observations: \n",
    "Total no. of \"yes\" are 274 \n",
    "Total no. of \"no\" are 1064"
   ]
  },
  {
   "cell_type": "code",
   "execution_count": 22,
   "id": "6a917c67",
   "metadata": {},
   "outputs": [
    {
     "name": "stdout",
     "output_type": "stream",
     "text": [
      "southeast    364\n",
      "southwest    325\n",
      "northwest    325\n",
      "northeast    324\n",
      "Name: region, dtype: int64\n"
     ]
    },
    {
     "data": {
      "image/png": "[encoded data removed]",
      "text/plain": [
       "<Figure size 432x288 with 1 Axes>"
      ]
     },
     "metadata": {
      "needs_background": "light"
     },
     "output_type": "display_data"
    }
   ],
   "source": [
    "print(df[\"region\"].value_counts())\n",
    "sns.countplot(df[\"region\"])\n",
    "plt.show()"
   ]
  },
  {
   "cell_type": "code",
   "execution_count": 111,
   "id": "2885b504",
   "metadata": {},
   "outputs": [],
   "source": [
    "#Observations: \n",
    "#Total no. of \"southeast\" are 364\n",
    "#Total no. of \"southwest\" are 325\n",
    "#Total no. of \"northwest\" are 325 \n",
    "#Total no. of \"northeast\" are 324\n",
    "\n"
   ]
  },
  {
   "cell_type": "markdown",
   "id": "217023a4",
   "metadata": {},
   "source": [
    "# Encoding of Categorical Data"
   ]
  },
  {
   "cell_type": "code",
   "execution_count": 23,
   "id": "c6b2622d",
   "metadata": {},
   "outputs": [
    {
     "data": {
      "text/html": [
       "<div>\n",
       "<style scoped>\n",
       "    .dataframe tbody tr th:only-of-type {\n",
       "        vertical-align: middle;\n",
       "    }\n",
       "\n",
       "    .dataframe tbody tr th {\n",
       "        vertical-align: top;\n",
       "    }\n",
       "\n",
       "    .dataframe thead th {\n",
       "        text-align: right;\n",
       "    }\n",
       "</style>\n",
       "<table border=\"1\" class=\"dataframe\">\n",
       "  <thead>\n",
       "    <tr style=\"text-align: right;\">\n",
       "      <th></th>\n",
       "      <th>age</th>\n",
       "      <th>sex</th>\n",
       "      <th>bmi</th>\n",
       "      <th>children</th>\n",
       "      <th>smoker</th>\n",
       "      <th>region</th>\n",
       "      <th>charges</th>\n",
       "    </tr>\n",
       "  </thead>\n",
       "  <tbody>\n",
       "    <tr>\n",
       "      <th>0</th>\n",
       "      <td>19</td>\n",
       "      <td>female</td>\n",
       "      <td>27.900</td>\n",
       "      <td>0</td>\n",
       "      <td>yes</td>\n",
       "      <td>southwest</td>\n",
       "      <td>16884.92400</td>\n",
       "    </tr>\n",
       "    <tr>\n",
       "      <th>1</th>\n",
       "      <td>18</td>\n",
       "      <td>male</td>\n",
       "      <td>33.770</td>\n",
       "      <td>1</td>\n",
       "      <td>no</td>\n",
       "      <td>southeast</td>\n",
       "      <td>1725.55230</td>\n",
       "    </tr>\n",
       "    <tr>\n",
       "      <th>2</th>\n",
       "      <td>28</td>\n",
       "      <td>male</td>\n",
       "      <td>33.000</td>\n",
       "      <td>3</td>\n",
       "      <td>no</td>\n",
       "      <td>southeast</td>\n",
       "      <td>4449.46200</td>\n",
       "    </tr>\n",
       "    <tr>\n",
       "      <th>3</th>\n",
       "      <td>33</td>\n",
       "      <td>male</td>\n",
       "      <td>22.705</td>\n",
       "      <td>0</td>\n",
       "      <td>no</td>\n",
       "      <td>northwest</td>\n",
       "      <td>21984.47061</td>\n",
       "    </tr>\n",
       "    <tr>\n",
       "      <th>4</th>\n",
       "      <td>32</td>\n",
       "      <td>male</td>\n",
       "      <td>28.880</td>\n",
       "      <td>0</td>\n",
       "      <td>no</td>\n",
       "      <td>northwest</td>\n",
       "      <td>3866.85520</td>\n",
       "    </tr>\n",
       "  </tbody>\n",
       "</table>\n",
       "</div>"
      ],
      "text/plain": [
       "   age     sex     bmi  children smoker     region      charges\n",
       "0   19  female  27.900         0    yes  southwest  16884.92400\n",
       "1   18    male  33.770         1     no  southeast   1725.55230\n",
       "2   28    male  33.000         3     no  southeast   4449.46200\n",
       "3   33    male  22.705         0     no  northwest  21984.47061\n",
       "4   32    male  28.880         0     no  northwest   3866.85520"
      ]
     },
     "execution_count": 23,
     "metadata": {},
     "output_type": "execute_result"
    }
   ],
   "source": [
    "df.head()"
   ]
  },
  {
   "cell_type": "code",
   "execution_count": 24,
   "id": "786ec725",
   "metadata": {},
   "outputs": [],
   "source": [
    "# Encoding needed for columns \"sex\", \"smoker\", \"region\" to change string data to numerical format"
   ]
  },
  {
   "cell_type": "code",
   "execution_count": 25,
   "id": "48ad5cdb",
   "metadata": {},
   "outputs": [
    {
     "data": {
      "text/html": [
       "<div>\n",
       "<style scoped>\n",
       "    .dataframe tbody tr th:only-of-type {\n",
       "        vertical-align: middle;\n",
       "    }\n",
       "\n",
       "    .dataframe tbody tr th {\n",
       "        vertical-align: top;\n",
       "    }\n",
       "\n",
       "    .dataframe thead th {\n",
       "        text-align: right;\n",
       "    }\n",
       "</style>\n",
       "<table border=\"1\" class=\"dataframe\">\n",
       "  <thead>\n",
       "    <tr style=\"text-align: right;\">\n",
       "      <th></th>\n",
       "      <th>age</th>\n",
       "      <th>sex</th>\n",
       "      <th>bmi</th>\n",
       "      <th>children</th>\n",
       "      <th>smoker</th>\n",
       "      <th>region</th>\n",
       "      <th>charges</th>\n",
       "    </tr>\n",
       "  </thead>\n",
       "  <tbody>\n",
       "    <tr>\n",
       "      <th>0</th>\n",
       "      <td>19</td>\n",
       "      <td>0</td>\n",
       "      <td>27.900</td>\n",
       "      <td>0</td>\n",
       "      <td>yes</td>\n",
       "      <td>southwest</td>\n",
       "      <td>16884.92400</td>\n",
       "    </tr>\n",
       "    <tr>\n",
       "      <th>1</th>\n",
       "      <td>18</td>\n",
       "      <td>1</td>\n",
       "      <td>33.770</td>\n",
       "      <td>1</td>\n",
       "      <td>no</td>\n",
       "      <td>southeast</td>\n",
       "      <td>1725.55230</td>\n",
       "    </tr>\n",
       "    <tr>\n",
       "      <th>2</th>\n",
       "      <td>28</td>\n",
       "      <td>1</td>\n",
       "      <td>33.000</td>\n",
       "      <td>3</td>\n",
       "      <td>no</td>\n",
       "      <td>southeast</td>\n",
       "      <td>4449.46200</td>\n",
       "    </tr>\n",
       "    <tr>\n",
       "      <th>3</th>\n",
       "      <td>33</td>\n",
       "      <td>1</td>\n",
       "      <td>22.705</td>\n",
       "      <td>0</td>\n",
       "      <td>no</td>\n",
       "      <td>northwest</td>\n",
       "      <td>21984.47061</td>\n",
       "    </tr>\n",
       "    <tr>\n",
       "      <th>4</th>\n",
       "      <td>32</td>\n",
       "      <td>1</td>\n",
       "      <td>28.880</td>\n",
       "      <td>0</td>\n",
       "      <td>no</td>\n",
       "      <td>northwest</td>\n",
       "      <td>3866.85520</td>\n",
       "    </tr>\n",
       "  </tbody>\n",
       "</table>\n",
       "</div>"
      ],
      "text/plain": [
       "   age  sex     bmi  children smoker     region      charges\n",
       "0   19    0  27.900         0    yes  southwest  16884.92400\n",
       "1   18    1  33.770         1     no  southeast   1725.55230\n",
       "2   28    1  33.000         3     no  southeast   4449.46200\n",
       "3   33    1  22.705         0     no  northwest  21984.47061\n",
       "4   32    1  28.880         0     no  northwest   3866.85520"
      ]
     },
     "execution_count": 25,
     "metadata": {},
     "output_type": "execute_result"
    }
   ],
   "source": [
    "from sklearn.preprocessing import LabelEncoder  # Using LabelEncoder\n",
    "# Encoding for Sex column\n",
    "le=LabelEncoder()\n",
    "df[\"sex\"]=le.fit_transform(df[\"sex\"])\n",
    "df.head(5)                        "
   ]
  },
  {
   "cell_type": "code",
   "execution_count": 26,
   "id": "6cd33116",
   "metadata": {},
   "outputs": [
    {
     "data": {
      "text/plain": [
       "array(['female', 'male'], dtype=object)"
      ]
     },
     "execution_count": 26,
     "metadata": {},
     "output_type": "execute_result"
    }
   ],
   "source": [
    "le.inverse_transform([0,1])"
   ]
  },
  {
   "cell_type": "code",
   "execution_count": 27,
   "id": "f9353d4b",
   "metadata": {},
   "outputs": [
    {
     "data": {
      "text/html": [
       "<div>\n",
       "<style scoped>\n",
       "    .dataframe tbody tr th:only-of-type {\n",
       "        vertical-align: middle;\n",
       "    }\n",
       "\n",
       "    .dataframe tbody tr th {\n",
       "        vertical-align: top;\n",
       "    }\n",
       "\n",
       "    .dataframe thead th {\n",
       "        text-align: right;\n",
       "    }\n",
       "</style>\n",
       "<table border=\"1\" class=\"dataframe\">\n",
       "  <thead>\n",
       "    <tr style=\"text-align: right;\">\n",
       "      <th></th>\n",
       "      <th>age</th>\n",
       "      <th>sex</th>\n",
       "      <th>bmi</th>\n",
       "      <th>children</th>\n",
       "      <th>smoker</th>\n",
       "      <th>region</th>\n",
       "      <th>charges</th>\n",
       "    </tr>\n",
       "  </thead>\n",
       "  <tbody>\n",
       "    <tr>\n",
       "      <th>0</th>\n",
       "      <td>19</td>\n",
       "      <td>0</td>\n",
       "      <td>27.900</td>\n",
       "      <td>0</td>\n",
       "      <td>1</td>\n",
       "      <td>southwest</td>\n",
       "      <td>16884.92400</td>\n",
       "    </tr>\n",
       "    <tr>\n",
       "      <th>1</th>\n",
       "      <td>18</td>\n",
       "      <td>1</td>\n",
       "      <td>33.770</td>\n",
       "      <td>1</td>\n",
       "      <td>0</td>\n",
       "      <td>southeast</td>\n",
       "      <td>1725.55230</td>\n",
       "    </tr>\n",
       "    <tr>\n",
       "      <th>2</th>\n",
       "      <td>28</td>\n",
       "      <td>1</td>\n",
       "      <td>33.000</td>\n",
       "      <td>3</td>\n",
       "      <td>0</td>\n",
       "      <td>southeast</td>\n",
       "      <td>4449.46200</td>\n",
       "    </tr>\n",
       "    <tr>\n",
       "      <th>3</th>\n",
       "      <td>33</td>\n",
       "      <td>1</td>\n",
       "      <td>22.705</td>\n",
       "      <td>0</td>\n",
       "      <td>0</td>\n",
       "      <td>northwest</td>\n",
       "      <td>21984.47061</td>\n",
       "    </tr>\n",
       "    <tr>\n",
       "      <th>4</th>\n",
       "      <td>32</td>\n",
       "      <td>1</td>\n",
       "      <td>28.880</td>\n",
       "      <td>0</td>\n",
       "      <td>0</td>\n",
       "      <td>northwest</td>\n",
       "      <td>3866.85520</td>\n",
       "    </tr>\n",
       "  </tbody>\n",
       "</table>\n",
       "</div>"
      ],
      "text/plain": [
       "   age  sex     bmi  children  smoker     region      charges\n",
       "0   19    0  27.900         0       1  southwest  16884.92400\n",
       "1   18    1  33.770         1       0  southeast   1725.55230\n",
       "2   28    1  33.000         3       0  southeast   4449.46200\n",
       "3   33    1  22.705         0       0  northwest  21984.47061\n",
       "4   32    1  28.880         0       0  northwest   3866.85520"
      ]
     },
     "execution_count": 27,
     "metadata": {},
     "output_type": "execute_result"
    }
   ],
   "source": [
    "# Encoding for smoker column\n",
    "le=LabelEncoder()\n",
    "df[\"smoker\"]=le.fit_transform(df[\"smoker\"])\n",
    "df.head(5) "
   ]
  },
  {
   "cell_type": "code",
   "execution_count": 28,
   "id": "f8116c07",
   "metadata": {},
   "outputs": [
    {
     "data": {
      "text/plain": [
       "array(['no', 'yes'], dtype=object)"
      ]
     },
     "execution_count": 28,
     "metadata": {},
     "output_type": "execute_result"
    }
   ],
   "source": [
    "le.inverse_transform([0,1])"
   ]
  },
  {
   "cell_type": "code",
   "execution_count": 29,
   "id": "7aaa899d",
   "metadata": {},
   "outputs": [
    {
     "data": {
      "text/html": [
       "<div>\n",
       "<style scoped>\n",
       "    .dataframe tbody tr th:only-of-type {\n",
       "        vertical-align: middle;\n",
       "    }\n",
       "\n",
       "    .dataframe tbody tr th {\n",
       "        vertical-align: top;\n",
       "    }\n",
       "\n",
       "    .dataframe thead th {\n",
       "        text-align: right;\n",
       "    }\n",
       "</style>\n",
       "<table border=\"1\" class=\"dataframe\">\n",
       "  <thead>\n",
       "    <tr style=\"text-align: right;\">\n",
       "      <th></th>\n",
       "      <th>age</th>\n",
       "      <th>sex</th>\n",
       "      <th>bmi</th>\n",
       "      <th>children</th>\n",
       "      <th>smoker</th>\n",
       "      <th>region</th>\n",
       "      <th>charges</th>\n",
       "    </tr>\n",
       "  </thead>\n",
       "  <tbody>\n",
       "    <tr>\n",
       "      <th>0</th>\n",
       "      <td>19</td>\n",
       "      <td>0</td>\n",
       "      <td>27.900</td>\n",
       "      <td>0</td>\n",
       "      <td>1</td>\n",
       "      <td>3</td>\n",
       "      <td>16884.92400</td>\n",
       "    </tr>\n",
       "    <tr>\n",
       "      <th>1</th>\n",
       "      <td>18</td>\n",
       "      <td>1</td>\n",
       "      <td>33.770</td>\n",
       "      <td>1</td>\n",
       "      <td>0</td>\n",
       "      <td>2</td>\n",
       "      <td>1725.55230</td>\n",
       "    </tr>\n",
       "    <tr>\n",
       "      <th>2</th>\n",
       "      <td>28</td>\n",
       "      <td>1</td>\n",
       "      <td>33.000</td>\n",
       "      <td>3</td>\n",
       "      <td>0</td>\n",
       "      <td>2</td>\n",
       "      <td>4449.46200</td>\n",
       "    </tr>\n",
       "    <tr>\n",
       "      <th>3</th>\n",
       "      <td>33</td>\n",
       "      <td>1</td>\n",
       "      <td>22.705</td>\n",
       "      <td>0</td>\n",
       "      <td>0</td>\n",
       "      <td>1</td>\n",
       "      <td>21984.47061</td>\n",
       "    </tr>\n",
       "    <tr>\n",
       "      <th>4</th>\n",
       "      <td>32</td>\n",
       "      <td>1</td>\n",
       "      <td>28.880</td>\n",
       "      <td>0</td>\n",
       "      <td>0</td>\n",
       "      <td>1</td>\n",
       "      <td>3866.85520</td>\n",
       "    </tr>\n",
       "  </tbody>\n",
       "</table>\n",
       "</div>"
      ],
      "text/plain": [
       "   age  sex     bmi  children  smoker  region      charges\n",
       "0   19    0  27.900         0       1       3  16884.92400\n",
       "1   18    1  33.770         1       0       2   1725.55230\n",
       "2   28    1  33.000         3       0       2   4449.46200\n",
       "3   33    1  22.705         0       0       1  21984.47061\n",
       "4   32    1  28.880         0       0       1   3866.85520"
      ]
     },
     "execution_count": 29,
     "metadata": {},
     "output_type": "execute_result"
    }
   ],
   "source": [
    "# Encoding for Region Column\n",
    "le=LabelEncoder()\n",
    "df[\"region\"]=le.fit_transform(df[\"region\"])\n",
    "df.head(5) "
   ]
  },
  {
   "cell_type": "code",
   "execution_count": 30,
   "id": "a7106552",
   "metadata": {},
   "outputs": [
    {
     "data": {
      "text/plain": [
       "array([3, 2, 1, 0])"
      ]
     },
     "execution_count": 30,
     "metadata": {},
     "output_type": "execute_result"
    }
   ],
   "source": [
    "df[\"region\"].unique()"
   ]
  },
  {
   "cell_type": "code",
   "execution_count": 31,
   "id": "afeeb504",
   "metadata": {},
   "outputs": [
    {
     "data": {
      "text/plain": [
       "array(['northeast', 'northwest', 'southeast', 'southwest'], dtype=object)"
      ]
     },
     "execution_count": 31,
     "metadata": {},
     "output_type": "execute_result"
    }
   ],
   "source": [
    "le.inverse_transform([0,1,2,3])"
   ]
  },
  {
   "cell_type": "code",
   "execution_count": 32,
   "id": "1f65fb79",
   "metadata": {},
   "outputs": [
    {
     "data": {
      "text/html": [
       "<div>\n",
       "<style scoped>\n",
       "    .dataframe tbody tr th:only-of-type {\n",
       "        vertical-align: middle;\n",
       "    }\n",
       "\n",
       "    .dataframe tbody tr th {\n",
       "        vertical-align: top;\n",
       "    }\n",
       "\n",
       "    .dataframe thead th {\n",
       "        text-align: right;\n",
       "    }\n",
       "</style>\n",
       "<table border=\"1\" class=\"dataframe\">\n",
       "  <thead>\n",
       "    <tr style=\"text-align: right;\">\n",
       "      <th></th>\n",
       "      <th>age</th>\n",
       "      <th>sex</th>\n",
       "      <th>bmi</th>\n",
       "      <th>children</th>\n",
       "      <th>smoker</th>\n",
       "      <th>region</th>\n",
       "      <th>charges</th>\n",
       "    </tr>\n",
       "  </thead>\n",
       "  <tbody>\n",
       "    <tr>\n",
       "      <th>0</th>\n",
       "      <td>19</td>\n",
       "      <td>0</td>\n",
       "      <td>27.900</td>\n",
       "      <td>0</td>\n",
       "      <td>1</td>\n",
       "      <td>3</td>\n",
       "      <td>16884.92400</td>\n",
       "    </tr>\n",
       "    <tr>\n",
       "      <th>1</th>\n",
       "      <td>18</td>\n",
       "      <td>1</td>\n",
       "      <td>33.770</td>\n",
       "      <td>1</td>\n",
       "      <td>0</td>\n",
       "      <td>2</td>\n",
       "      <td>1725.55230</td>\n",
       "    </tr>\n",
       "    <tr>\n",
       "      <th>2</th>\n",
       "      <td>28</td>\n",
       "      <td>1</td>\n",
       "      <td>33.000</td>\n",
       "      <td>3</td>\n",
       "      <td>0</td>\n",
       "      <td>2</td>\n",
       "      <td>4449.46200</td>\n",
       "    </tr>\n",
       "    <tr>\n",
       "      <th>3</th>\n",
       "      <td>33</td>\n",
       "      <td>1</td>\n",
       "      <td>22.705</td>\n",
       "      <td>0</td>\n",
       "      <td>0</td>\n",
       "      <td>1</td>\n",
       "      <td>21984.47061</td>\n",
       "    </tr>\n",
       "    <tr>\n",
       "      <th>4</th>\n",
       "      <td>32</td>\n",
       "      <td>1</td>\n",
       "      <td>28.880</td>\n",
       "      <td>0</td>\n",
       "      <td>0</td>\n",
       "      <td>1</td>\n",
       "      <td>3866.85520</td>\n",
       "    </tr>\n",
       "  </tbody>\n",
       "</table>\n",
       "</div>"
      ],
      "text/plain": [
       "   age  sex     bmi  children  smoker  region      charges\n",
       "0   19    0  27.900         0       1       3  16884.92400\n",
       "1   18    1  33.770         1       0       2   1725.55230\n",
       "2   28    1  33.000         3       0       2   4449.46200\n",
       "3   33    1  22.705         0       0       1  21984.47061\n",
       "4   32    1  28.880         0       0       1   3866.85520"
      ]
     },
     "execution_count": 32,
     "metadata": {},
     "output_type": "execute_result"
    }
   ],
   "source": [
    "df.head()"
   ]
  },
  {
   "cell_type": "code",
   "execution_count": 112,
   "id": "54c0b007",
   "metadata": {},
   "outputs": [],
   "source": [
    "#All object data types are converted into integers. Hence now we can move ahead."
   ]
  },
  {
   "cell_type": "markdown",
   "id": "f18cb5b3",
   "metadata": {},
   "source": [
    "# Checking coefficients of correlation (r)"
   ]
  },
  {
   "cell_type": "code",
   "execution_count": 41,
   "id": "909a64e6",
   "metadata": {},
   "outputs": [
    {
     "data": {
      "image/png": "[encoded data removed]",
      "text/plain": [
       "<Figure size 864x576 with 2 Axes>"
      ]
     },
     "metadata": {
      "needs_background": "light"
     },
     "output_type": "display_data"
    }
   ],
   "source": [
    "# Checking correlaiton coefficients to know the strength of relationship between variables\n",
    "corr_r=df.corr()\n",
    "plt.figure(figsize=(12,8))\n",
    "sns.heatmap(corr_r,cmap=\"Blues\",annot=True)\n",
    "plt.title(\"Correlation Matrix\")\n",
    "plt.savefig(\"correlation_matrix.jpg\")\n",
    "plt.show()"
   ]
  },
  {
   "cell_type": "code",
   "execution_count": 42,
   "id": "29d4611e",
   "metadata": {},
   "outputs": [
    {
     "data": {
      "text/plain": [
       "charges     1.000000\n",
       "smoker      0.787251\n",
       "age         0.299008\n",
       "bmi         0.198341\n",
       "children    0.067998\n",
       "sex         0.057292\n",
       "region     -0.006208\n",
       "Name: charges, dtype: float64"
      ]
     },
     "execution_count": 42,
     "metadata": {},
     "output_type": "execute_result"
    }
   ],
   "source": [
    "# Arranging the relationship of target variable with other variables in descending order\n",
    "\n",
    "corr_r[\"charges\"].sort_values(ascending=False)"
   ]
  },
  {
   "cell_type": "code",
   "execution_count": 43,
   "id": "2585c592",
   "metadata": {},
   "outputs": [
    {
     "data": {
      "image/png": "[encoded data removed]",
      "text/plain": [
       "<Figure size 576x288 with 1 Axes>"
      ]
     },
     "metadata": {
      "needs_background": "light"
     },
     "output_type": "display_data"
    }
   ],
   "source": [
    "# Plotting the relationship of target variable with other variables in descending order\n",
    "plt.figure(figsize=(8,4))\n",
    "corr_r[\"charges\"].sort_values(ascending=False).plot(kind=\"bar\",color=\"c\")\n",
    "plt.xlabel(\"Feature\",fontsize=14)\n",
    "plt.ylabel(\"Column with target names\",fontsize=14)\n",
    "plt.title(\"Corrleation\",fontsize=14)\n",
    "plt.show()\n"
   ]
  },
  {
   "cell_type": "code",
   "execution_count": 113,
   "id": "ed30a4f9",
   "metadata": {},
   "outputs": [],
   "source": [
    "#Observations: (Correlation of Target variable with features)\n",
    "\n",
    "#1) Max correlation: smoker\n",
    "#2) Min correlation: region\n",
    "\n",
    "#Eventhough \"region\" has weak correlation, this column is not dropped from the dataset as the dataset is small and dropping this column will loose the information"
   ]
  },
  {
   "cell_type": "markdown",
   "id": "884a810b",
   "metadata": {},
   "source": [
    "# Pre-Processing"
   ]
  },
  {
   "cell_type": "code",
   "execution_count": 44,
   "id": "c82f2392",
   "metadata": {},
   "outputs": [
    {
     "data": {
      "text/plain": [
       "Index(['age', 'sex', 'bmi', 'children', 'smoker', 'region', 'charges'], dtype='object')"
      ]
     },
     "execution_count": 44,
     "metadata": {},
     "output_type": "execute_result"
    }
   ],
   "source": [
    "df.columns"
   ]
  },
  {
   "cell_type": "code",
   "execution_count": 45,
   "id": "41dc65f8",
   "metadata": {},
   "outputs": [],
   "source": [
    "# Segregating only X data\n",
    "x=df.drop(\"charges\",axis=1)"
   ]
  },
  {
   "cell_type": "code",
   "execution_count": 46,
   "id": "f25786c6",
   "metadata": {},
   "outputs": [
    {
     "data": {
      "text/html": [
       "<div>\n",
       "<style scoped>\n",
       "    .dataframe tbody tr th:only-of-type {\n",
       "        vertical-align: middle;\n",
       "    }\n",
       "\n",
       "    .dataframe tbody tr th {\n",
       "        vertical-align: top;\n",
       "    }\n",
       "\n",
       "    .dataframe thead th {\n",
       "        text-align: right;\n",
       "    }\n",
       "</style>\n",
       "<table border=\"1\" class=\"dataframe\">\n",
       "  <thead>\n",
       "    <tr style=\"text-align: right;\">\n",
       "      <th></th>\n",
       "      <th>age</th>\n",
       "      <th>sex</th>\n",
       "      <th>bmi</th>\n",
       "      <th>children</th>\n",
       "      <th>smoker</th>\n",
       "      <th>region</th>\n",
       "    </tr>\n",
       "  </thead>\n",
       "  <tbody>\n",
       "    <tr>\n",
       "      <th>0</th>\n",
       "      <td>19</td>\n",
       "      <td>0</td>\n",
       "      <td>27.900</td>\n",
       "      <td>0</td>\n",
       "      <td>1</td>\n",
       "      <td>3</td>\n",
       "    </tr>\n",
       "    <tr>\n",
       "      <th>1</th>\n",
       "      <td>18</td>\n",
       "      <td>1</td>\n",
       "      <td>33.770</td>\n",
       "      <td>1</td>\n",
       "      <td>0</td>\n",
       "      <td>2</td>\n",
       "    </tr>\n",
       "    <tr>\n",
       "      <th>2</th>\n",
       "      <td>28</td>\n",
       "      <td>1</td>\n",
       "      <td>33.000</td>\n",
       "      <td>3</td>\n",
       "      <td>0</td>\n",
       "      <td>2</td>\n",
       "    </tr>\n",
       "    <tr>\n",
       "      <th>3</th>\n",
       "      <td>33</td>\n",
       "      <td>1</td>\n",
       "      <td>22.705</td>\n",
       "      <td>0</td>\n",
       "      <td>0</td>\n",
       "      <td>1</td>\n",
       "    </tr>\n",
       "    <tr>\n",
       "      <th>4</th>\n",
       "      <td>32</td>\n",
       "      <td>1</td>\n",
       "      <td>28.880</td>\n",
       "      <td>0</td>\n",
       "      <td>0</td>\n",
       "      <td>1</td>\n",
       "    </tr>\n",
       "    <tr>\n",
       "      <th>...</th>\n",
       "      <td>...</td>\n",
       "      <td>...</td>\n",
       "      <td>...</td>\n",
       "      <td>...</td>\n",
       "      <td>...</td>\n",
       "      <td>...</td>\n",
       "    </tr>\n",
       "    <tr>\n",
       "      <th>1333</th>\n",
       "      <td>50</td>\n",
       "      <td>1</td>\n",
       "      <td>30.970</td>\n",
       "      <td>3</td>\n",
       "      <td>0</td>\n",
       "      <td>1</td>\n",
       "    </tr>\n",
       "    <tr>\n",
       "      <th>1334</th>\n",
       "      <td>18</td>\n",
       "      <td>0</td>\n",
       "      <td>31.920</td>\n",
       "      <td>0</td>\n",
       "      <td>0</td>\n",
       "      <td>0</td>\n",
       "    </tr>\n",
       "    <tr>\n",
       "      <th>1335</th>\n",
       "      <td>18</td>\n",
       "      <td>0</td>\n",
       "      <td>36.850</td>\n",
       "      <td>0</td>\n",
       "      <td>0</td>\n",
       "      <td>2</td>\n",
       "    </tr>\n",
       "    <tr>\n",
       "      <th>1336</th>\n",
       "      <td>21</td>\n",
       "      <td>0</td>\n",
       "      <td>25.800</td>\n",
       "      <td>0</td>\n",
       "      <td>0</td>\n",
       "      <td>3</td>\n",
       "    </tr>\n",
       "    <tr>\n",
       "      <th>1337</th>\n",
       "      <td>61</td>\n",
       "      <td>0</td>\n",
       "      <td>29.070</td>\n",
       "      <td>0</td>\n",
       "      <td>1</td>\n",
       "      <td>1</td>\n",
       "    </tr>\n",
       "  </tbody>\n",
       "</table>\n",
       "<p>1338 rows × 6 columns</p>\n",
       "</div>"
      ],
      "text/plain": [
       "      age  sex     bmi  children  smoker  region\n",
       "0      19    0  27.900         0       1       3\n",
       "1      18    1  33.770         1       0       2\n",
       "2      28    1  33.000         3       0       2\n",
       "3      33    1  22.705         0       0       1\n",
       "4      32    1  28.880         0       0       1\n",
       "...   ...  ...     ...       ...     ...     ...\n",
       "1333   50    1  30.970         3       0       1\n",
       "1334   18    0  31.920         0       0       0\n",
       "1335   18    0  36.850         0       0       2\n",
       "1336   21    0  25.800         0       0       3\n",
       "1337   61    0  29.070         0       1       1\n",
       "\n",
       "[1338 rows x 6 columns]"
      ]
     },
     "execution_count": 46,
     "metadata": {},
     "output_type": "execute_result"
    }
   ],
   "source": [
    "x"
   ]
  },
  {
   "cell_type": "code",
   "execution_count": 47,
   "id": "42ecd46b",
   "metadata": {},
   "outputs": [
    {
     "data": {
      "text/plain": [
       "0       16884.92400\n",
       "1        1725.55230\n",
       "2        4449.46200\n",
       "3       21984.47061\n",
       "4        3866.85520\n",
       "           ...     \n",
       "1333    10600.54830\n",
       "1334     2205.98080\n",
       "1335     1629.83350\n",
       "1336     2007.94500\n",
       "1337    29141.36030\n",
       "Name: charges, Length: 1338, dtype: float64"
      ]
     },
     "execution_count": 47,
     "metadata": {},
     "output_type": "execute_result"
    }
   ],
   "source": [
    "# Segregating only Y data\n",
    "y=df[\"charges\"]\n",
    "y"
   ]
  },
  {
   "cell_type": "markdown",
   "id": "b4cade75",
   "metadata": {},
   "source": [
    "# Checking Outliers"
   ]
  },
  {
   "cell_type": "code",
   "execution_count": 121,
   "id": "0d092598",
   "metadata": {},
   "outputs": [],
   "source": [
    "# We don't remove outliers of categorical X columns and in target variable\n",
    "# Checking outliers on columns \"age\", \"bmi\""
   ]
  },
  {
   "cell_type": "code",
   "execution_count": 50,
   "id": "3db27be8",
   "metadata": {},
   "outputs": [
    {
     "data": {
      "image/png": "[encoded data removed]",
      "text/plain": [
       "<Figure size 432x288 with 1 Axes>"
      ]
     },
     "metadata": {
      "needs_background": "light"
     },
     "output_type": "display_data"
    }
   ],
   "source": [
    "df[\"bmi\"].plot.box()\n",
    "plt.show()"
   ]
  },
  {
   "cell_type": "code",
   "execution_count": 122,
   "id": "7e7e0da7",
   "metadata": {},
   "outputs": [],
   "source": [
    "# Observation: There are outliers present in BMI"
   ]
  },
  {
   "cell_type": "code",
   "execution_count": 51,
   "id": "39852ee1",
   "metadata": {},
   "outputs": [
    {
     "data": {
      "image/png": "[encoded data removed]",
      "text/plain": [
       "<Figure size 432x288 with 1 Axes>"
      ]
     },
     "metadata": {
      "needs_background": "light"
     },
     "output_type": "display_data"
    }
   ],
   "source": [
    "df[\"age\"].plot.box()\n",
    "plt.show()"
   ]
  },
  {
   "cell_type": "code",
   "execution_count": 114,
   "id": "416ac1cf",
   "metadata": {},
   "outputs": [],
   "source": [
    "#Observation: No outliers present in age"
   ]
  },
  {
   "cell_type": "markdown",
   "id": "bce93e3a",
   "metadata": {},
   "source": [
    "# Removing Outliers"
   ]
  },
  {
   "cell_type": "code",
   "execution_count": 52,
   "id": "9eef952f",
   "metadata": {},
   "outputs": [
    {
     "data": {
      "text/plain": [
       "(array([  32,   71,  116,  166,  413,  425,  438,  568,  640,  847,  877,\n",
       "         932,  937,  969,  984, 1047, 1085, 1116, 1130, 1245, 1272, 1317]),\n",
       " array([3, 3, 2, 3, 3, 3, 3, 3, 3, 2, 3, 3, 3, 3, 3, 2, 3, 3, 3, 3, 3, 2]))"
      ]
     },
     "execution_count": 52,
     "metadata": {},
     "output_type": "execute_result"
    }
   ],
   "source": [
    "# Calculating z score & identifying the rows and columns where absolute z score > 3\n",
    "from scipy.stats import zscore\n",
    "z=np.abs(zscore(x))\n",
    "threshold=3\n",
    "np.where(z>3)"
   ]
  },
  {
   "cell_type": "code",
   "execution_count": 53,
   "id": "00afcda0",
   "metadata": {},
   "outputs": [
    {
     "data": {
      "text/plain": [
       "(1338, 6)"
      ]
     },
     "execution_count": 53,
     "metadata": {},
     "output_type": "execute_result"
    }
   ],
   "source": [
    "x.shape"
   ]
  },
  {
   "cell_type": "code",
   "execution_count": 54,
   "id": "1e9ed054",
   "metadata": {},
   "outputs": [
    {
     "data": {
      "text/plain": [
       "(1338,)"
      ]
     },
     "execution_count": 54,
     "metadata": {},
     "output_type": "execute_result"
    }
   ],
   "source": [
    "y.shape"
   ]
  },
  {
   "cell_type": "code",
   "execution_count": 55,
   "id": "c4dba0a2",
   "metadata": {},
   "outputs": [],
   "source": [
    "# Removing the rows in both x and y where the outliers are present in x features\n",
    "x_new=x[(z<3).all(axis=1)]\n",
    "y_new=y[(z<3).all(axis=1)]\n",
    "x=x_new\n",
    "y=y_new"
   ]
  },
  {
   "cell_type": "code",
   "execution_count": 56,
   "id": "739003d3",
   "metadata": {},
   "outputs": [
    {
     "data": {
      "text/plain": [
       "True"
      ]
     },
     "execution_count": 56,
     "metadata": {},
     "output_type": "execute_result"
    }
   ],
   "source": [
    "# Checking the absolute zscore < 3 for the x data after removing outliers\n",
    "(np.abs(zscore(x))<3).all().all()"
   ]
  },
  {
   "cell_type": "code",
   "execution_count": 57,
   "id": "6b210e26",
   "metadata": {},
   "outputs": [
    {
     "data": {
      "text/plain": [
       "(1316, 6)"
      ]
     },
     "execution_count": 57,
     "metadata": {},
     "output_type": "execute_result"
    }
   ],
   "source": [
    "x.shape"
   ]
  },
  {
   "cell_type": "code",
   "execution_count": 58,
   "id": "d9dc534f",
   "metadata": {},
   "outputs": [
    {
     "data": {
      "text/plain": [
       "(1316,)"
      ]
     },
     "execution_count": 58,
     "metadata": {},
     "output_type": "execute_result"
    }
   ],
   "source": [
    "y.shape"
   ]
  },
  {
   "cell_type": "code",
   "execution_count": 59,
   "id": "f6382cd8",
   "metadata": {},
   "outputs": [
    {
     "data": {
      "text/plain": [
       "1.6442451420029895"
      ]
     },
     "execution_count": 59,
     "metadata": {},
     "output_type": "execute_result"
    }
   ],
   "source": [
    "# Data loss calculation\n",
    "loss_percent=(1338-1316)/1338*100\n",
    "loss_percent"
   ]
  },
  {
   "cell_type": "code",
   "execution_count": 115,
   "id": "0f08b2ff",
   "metadata": {},
   "outputs": [],
   "source": [
    "#Observations: Data loss is less than 10% hence it is acceptable"
   ]
  },
  {
   "cell_type": "markdown",
   "id": "4c7e16f6",
   "metadata": {},
   "source": [
    "# Scaling X data"
   ]
  },
  {
   "cell_type": "code",
   "execution_count": 63,
   "id": "e6cb9883",
   "metadata": {},
   "outputs": [
    {
     "data": {
      "text/plain": [
       "array([[-1.4414442 , -1.00609762, -0.45376763, -0.92823448,  1.95914147,\n",
       "         1.35208943],\n",
       "       [-1.5125093 ,  0.99393934,  0.52723912, -0.03853559, -0.51042766,\n",
       "         0.44656796],\n",
       "       [-0.80185835,  0.99393934,  0.3985551 ,  1.74086219, -0.51042766,\n",
       "         0.44656796],\n",
       "       ...,\n",
       "       [-1.5125093 , -1.00609762,  1.04197521, -0.92823448, -0.51042766,\n",
       "         0.44656796],\n",
       "       [-1.29931401, -1.00609762, -0.80472404, -0.92823448, -0.51042766,\n",
       "         1.35208943],\n",
       "       [ 1.54328977, -1.00609762, -0.25823476, -0.92823448,  1.95914147,\n",
       "        -0.45895351]])"
      ]
     },
     "execution_count": 63,
     "metadata": {},
     "output_type": "execute_result"
    }
   ],
   "source": [
    "from sklearn.preprocessing import StandardScaler\n",
    "\n",
    "sc=StandardScaler()\n",
    "x=sc.fit_transform(x)\n",
    "x"
   ]
  },
  {
   "cell_type": "code",
   "execution_count": 64,
   "id": "46cb3947",
   "metadata": {},
   "outputs": [
    {
     "data": {
      "text/plain": [
       "(1316, 6)"
      ]
     },
     "execution_count": 64,
     "metadata": {},
     "output_type": "execute_result"
    }
   ],
   "source": [
    "x.shape"
   ]
  },
  {
   "cell_type": "code",
   "execution_count": 65,
   "id": "9da3a397",
   "metadata": {},
   "outputs": [
    {
     "data": {
      "text/plain": [
       "(1316,)"
      ]
     },
     "execution_count": 65,
     "metadata": {},
     "output_type": "execute_result"
    }
   ],
   "source": [
    "y.shape"
   ]
  },
  {
   "cell_type": "markdown",
   "id": "f7cb9703",
   "metadata": {},
   "source": [
    "# Model Building"
   ]
  },
  {
   "cell_type": "code",
   "execution_count": 70,
   "id": "5fa9069d",
   "metadata": {},
   "outputs": [],
   "source": [
    "# Starting with \"LinearRegression\" as the target variable is continuous data"
   ]
  },
  {
   "cell_type": "code",
   "execution_count": 71,
   "id": "26c74d18",
   "metadata": {},
   "outputs": [
    {
     "name": "stdout",
     "output_type": "stream",
     "text": [
      "At randome state 431  the model performs well\n",
      "At randome state: 431\n",
      "Training accuracy is 75.00716546945829\n",
      "Testing accuracy is 75.01144940079281\n",
      "Difference between Training and Testing accuracy is 0.004283931334526869\n",
      "\n",
      "\n"
     ]
    }
   ],
   "source": [
    "# Defining the required libraries\n",
    "\n",
    "from sklearn.linear_model import LinearRegression\n",
    "from sklearn.model_selection import train_test_split\n",
    "from sklearn.metrics import r2_score\n",
    "\n",
    "lr=LinearRegression() # Defining instance for linearregression\n",
    "\n",
    "# Finding the random state value where training r2-score = testing r2-score\n",
    "\n",
    "for i in range(0,1000):\n",
    "    x_train,x_test,y_train,y_test=train_test_split(x,y,test_size=0.2,random_state=i)\n",
    "    lr.fit(x_train,y_train)\n",
    "    pred_test=lr.predict(x_test)\n",
    "    pred_train=lr.predict(x_train)\n",
    "    if round(r2_score(y_train,pred_train)*100,2)==round(r2_score(y_test,pred_test)*100,2):\n",
    "        print(\"At randome state\",i, \" the model performs well\")\n",
    "        print(\"At randome state:\",i)\n",
    "        print(\"Training accuracy is\",r2_score(y_train,pred_train)*100)\n",
    "        print(\"Testing accuracy is\",r2_score(y_test,pred_test)*100)\n",
    "        print(\"Difference between Training and Testing accuracy is\",(r2_score(y_test,pred_test)*100)-(r2_score(y_train,pred_train)*100))\n",
    "        print(\"\\n\")"
   ]
  },
  {
   "cell_type": "code",
   "execution_count": 116,
   "id": "370e6f0d",
   "metadata": {},
   "outputs": [],
   "source": [
    "#Observation: The above code states it is performing well at random state 431. Hence will be picking up that ramdom state."
   ]
  },
  {
   "cell_type": "code",
   "execution_count": 72,
   "id": "ae1b267b",
   "metadata": {},
   "outputs": [],
   "source": [
    "# Using the random state: 431 and splitting the data\n",
    "x_train,x_test,y_train,y_test=train_test_split(x,y,test_size=0.2,random_state=431)"
   ]
  },
  {
   "cell_type": "code",
   "execution_count": 73,
   "id": "884df2a7",
   "metadata": {},
   "outputs": [
    {
     "name": "stdout",
     "output_type": "stream",
     "text": [
      "0.7501144940079282\n"
     ]
    }
   ],
   "source": [
    "# Training the model and checking r2_score with the fixed random state: 431\n",
    "lr.fit(x_train,y_train)\n",
    "pred_test=lr.predict(x_test)\n",
    "print(r2_score(y_test,pred_test))"
   ]
  },
  {
   "cell_type": "markdown",
   "id": "11eeaaac",
   "metadata": {},
   "source": [
    "# Cross Validation for Linear Regression"
   ]
  },
  {
   "cell_type": "code",
   "execution_count": 74,
   "id": "c42eda14",
   "metadata": {},
   "outputs": [
    {
     "name": "stdout",
     "output_type": "stream",
     "text": [
      " At CV: 2\n",
      "Cross validation score is: 74.87666274306177\n",
      "Model_accuracy_score is: 75.01144940079281\n",
      "Difference b/w Cross validation score and Model accuracy score is -0.0013478665773104526\n",
      "\n",
      "\n",
      " At CV: 3\n",
      "Cross validation score is: 74.49726511284571\n",
      "Model_accuracy_score is: 75.01144940079281\n",
      "Difference b/w Cross validation score and Model accuracy score is -0.005141842879471059\n",
      "\n",
      "\n",
      " At CV: 4\n",
      "Cross validation score is: 74.61079357315701\n",
      "Model_accuracy_score is: 75.01144940079281\n",
      "Difference b/w Cross validation score and Model accuracy score is -0.0040065582763580965\n",
      "\n",
      "\n",
      " At CV: 5\n",
      "Cross validation score is: 74.71508430420552\n",
      "Model_accuracy_score is: 75.01144940079281\n",
      "Difference b/w Cross validation score and Model accuracy score is -0.0029636509658730326\n",
      "\n",
      "\n",
      " At CV: 6\n",
      "Cross validation score is: 74.58807356080324\n",
      "Model_accuracy_score is: 75.01144940079281\n",
      "Difference b/w Cross validation score and Model accuracy score is -0.004233758399895815\n",
      "\n",
      "\n",
      " At CV: 7\n",
      "Cross validation score is: 74.62083263709324\n",
      "Model_accuracy_score is: 75.01144940079281\n",
      "Difference b/w Cross validation score and Model accuracy score is -0.0039061676369958054\n",
      "\n",
      "\n",
      " At CV: 8\n",
      "Cross validation score is: 74.36034953588843\n",
      "Model_accuracy_score is: 75.01144940079281\n",
      "Difference b/w Cross validation score and Model accuracy score is -0.00651099864904392\n",
      "\n",
      "\n",
      " At CV: 9\n",
      "Cross validation score is: 74.51340882762916\n",
      "Model_accuracy_score is: 75.01144940079281\n",
      "Difference b/w Cross validation score and Model accuracy score is -0.004980405731636495\n",
      "\n",
      "\n",
      " At CV: 10\n",
      "Cross validation score is: 74.37096117484494\n",
      "Model_accuracy_score is: 75.01144940079281\n",
      "Difference b/w Cross validation score and Model accuracy score is -0.0064048822594788835\n",
      "\n",
      "\n"
     ]
    }
   ],
   "source": [
    "pred_lr=lr.predict(x_test)\n",
    "from sklearn.model_selection  import cross_val_score\n",
    "lss=r2_score(y_test,pred_lr)\n",
    "\n",
    "# Finding the optimized folds from Linear Regression where the cross validation score is same as model r2 score\n",
    "for j in range(2,11):\n",
    "    lsscore=cross_val_score(lr,x,y,cv=j)\n",
    "    lsc=lsscore.mean()\n",
    "    print(\" At CV:\",j)\n",
    "    print(\"Cross validation score is:\",lsc*100)\n",
    "    print(\"Model_accuracy_score is:\",lss*100)\n",
    "    print(\"Difference b/w Cross validation score and Model accuracy score is\",lsc-lss)\n",
    "    print(\"\\n\") "
   ]
  },
  {
   "cell_type": "code",
   "execution_count": 117,
   "id": "07f13873",
   "metadata": {},
   "outputs": [],
   "source": [
    "#Observations: At CV=2, Difference b/w Cross validation score and Model r2 score is less hence selected CV=2"
   ]
  },
  {
   "cell_type": "code",
   "execution_count": 75,
   "id": "c9a316e9",
   "metadata": {},
   "outputs": [
    {
     "name": "stdout",
     "output_type": "stream",
     "text": [
      "The CV score is: 74.87666274306177 \n",
      "The model score is: 75.01144940079281\n",
      "Difference is: 0.0013478665773104526\n"
     ]
    }
   ],
   "source": [
    "# Using fixed CV=2 and checking the cross validation score again to compare with model score \n",
    "lsscore_selected=cross_val_score(lr,x,y,cv=2).mean()\n",
    "print(\"The CV score is:\",lsscore_selected*100,\"\\nThe model score is:\",lss*100)\n",
    "print(\"Difference is:\",lss-lsscore_selected)"
   ]
  },
  {
   "cell_type": "markdown",
   "id": "3d20b135",
   "metadata": {},
   "source": [
    "# Other Classification Algorithms"
   ]
  },
  {
   "cell_type": "code",
   "execution_count": 76,
   "id": "9ffbd400",
   "metadata": {},
   "outputs": [
    {
     "name": "stdout",
     "output_type": "stream",
     "text": [
      "0.5853162070697672\n"
     ]
    }
   ],
   "source": [
    "# Checking accuracy with Decision Tree Regressor\n",
    "from sklearn.tree import DecisionTreeRegressor\n",
    "dtc=DecisionTreeRegressor()\n",
    "dtc.fit(x_train,y_train)\n",
    "preddtc=dtc.predict(x_test)\n",
    "print(r2_score(y_test,preddtc))"
   ]
  },
  {
   "cell_type": "code",
   "execution_count": 78,
   "id": "7f11b1ab",
   "metadata": {},
   "outputs": [
    {
     "name": "stdout",
     "output_type": "stream",
     "text": [
      "The CV score is: 68.03317337179273 \n",
      "The model score is: 58.53162070697672\n",
      "Difference is: -0.09501552664816015\n"
     ]
    }
   ],
   "source": [
    "score=cross_val_score(dtc,x,y,cv=2).mean()\n",
    "print(\"The CV score is:\",score*100,\"\\nThe model score is:\",r2_score(y_test,preddtc)*100)\n",
    "print(\"Difference is:\",r2_score(y_test,preddtc)-score)"
   ]
  },
  {
   "cell_type": "code",
   "execution_count": 79,
   "id": "17b5d993",
   "metadata": {},
   "outputs": [
    {
     "name": "stdout",
     "output_type": "stream",
     "text": [
      "0.7986501923115574\n"
     ]
    }
   ],
   "source": [
    "# Checking accuracy with KNearestNeighbors Regressor\n",
    "from sklearn.neighbors import KNeighborsRegressor\n",
    "knnc=KNeighborsRegressor()\n",
    "knnc.fit(x_train,y_train)\n",
    "predknnc=knnc.predict(x_test)\n",
    "print(r2_score(y_test,predknnc))"
   ]
  },
  {
   "cell_type": "code",
   "execution_count": 81,
   "id": "926887d9",
   "metadata": {},
   "outputs": [
    {
     "name": "stdout",
     "output_type": "stream",
     "text": [
      "The CV score is: 80.52770675235404 \n",
      "The model score is: 79.86501923115574\n",
      "Difference is: -0.006626875211982908\n"
     ]
    }
   ],
   "source": [
    "score=cross_val_score(knnc,x,y,cv=2).mean()\n",
    "print(\"The CV score is:\",score*100,\"\\nThe model score is:\",r2_score(y_test,predknnc)*100)\n",
    "print(\"Difference is:\",r2_score(y_test,predknnc)-score)"
   ]
  },
  {
   "cell_type": "code",
   "execution_count": 82,
   "id": "19957168",
   "metadata": {},
   "outputs": [
    {
     "name": "stdout",
     "output_type": "stream",
     "text": [
      "0.7503840058211279\n"
     ]
    }
   ],
   "source": [
    "# Checking accuracy with Gradient Descent Regressor\n",
    "from sklearn.linear_model import SGDRegressor\n",
    "sgdc=SGDRegressor()\n",
    "sgdc.fit(x_train,y_train)\n",
    "predsgdc=sgdc.predict(x_test)\n",
    "print(r2_score(y_test,predsgdc))"
   ]
  },
  {
   "cell_type": "code",
   "execution_count": 83,
   "id": "d845cad3",
   "metadata": {},
   "outputs": [
    {
     "name": "stdout",
     "output_type": "stream",
     "text": [
      "The CV score is: 74.88665496742952 \n",
      "The model score is: 75.03840058211279\n",
      "Difference is: 0.0015174561468326297\n"
     ]
    }
   ],
   "source": [
    "score=cross_val_score(sgdc,x,y,cv=2).mean()\n",
    "print(\"The CV score is:\",score*100,\"\\nThe model score is:\",r2_score(y_test,predsgdc)*100)\n",
    "print(\"Difference is:\",r2_score(y_test,predsgdc)-score)"
   ]
  },
  {
   "cell_type": "code",
   "execution_count": 84,
   "id": "a64dc566",
   "metadata": {},
   "outputs": [
    {
     "name": "stdout",
     "output_type": "stream",
     "text": [
      "-0.0447593813692484\n"
     ]
    }
   ],
   "source": [
    "# Checking accuracy with SVC Regressor\n",
    "from sklearn.svm import SVR\n",
    "sv=SVR()\n",
    "sv.fit(x_train,y_train)\n",
    "predsvc=sv.predict(x_test)\n",
    "print(r2_score(y_test,predsvc))"
   ]
  },
  {
   "cell_type": "code",
   "execution_count": 85,
   "id": "16813b23",
   "metadata": {},
   "outputs": [
    {
     "name": "stdout",
     "output_type": "stream",
     "text": [
      "The CV score is: -9.913638736019825 \n",
      "The model score is: -4.47593813692484\n",
      "Difference is: 0.054377005990949856\n"
     ]
    }
   ],
   "source": [
    "score=cross_val_score(sv,x,y,cv=2).mean()\n",
    "print(\"The CV score is:\",score*100,\"\\nThe model score is:\",r2_score(y_test,predsvc)*100)\n",
    "print(\"Difference is:\",r2_score(y_test,predsvc)-score)"
   ]
  },
  {
   "cell_type": "markdown",
   "id": "b282475a",
   "metadata": {},
   "source": [
    "# Regularization"
   ]
  },
  {
   "cell_type": "code",
   "execution_count": 86,
   "id": "b6797a4d",
   "metadata": {},
   "outputs": [
    {
     "name": "stdout",
     "output_type": "stream",
     "text": [
      "0.7501076384708704\n"
     ]
    }
   ],
   "source": [
    "# Checking accuracy with Lasso Regressor\n",
    "from sklearn.linear_model import Lasso\n",
    "lsr=Lasso()\n",
    "lsr.fit(x_train,y_train)\n",
    "predlsr=lsr.predict(x_test)\n",
    "print(r2_score(y_test,predlsr))\n"
   ]
  },
  {
   "cell_type": "code",
   "execution_count": 87,
   "id": "26ed35a6",
   "metadata": {},
   "outputs": [
    {
     "name": "stdout",
     "output_type": "stream",
     "text": [
      "The CV score is: 74.87675368290057 \n",
      "The model score is: 75.01076384708703\n",
      "Difference is: 0.0013401016418647105\n"
     ]
    }
   ],
   "source": [
    "score=cross_val_score(lsr,x,y,cv=2).mean()\n",
    "print(\"The CV score is:\",score*100,\"\\nThe model score is:\",r2_score(y_test,predlsr)*100)\n",
    "print(\"Difference is:\",r2_score(y_test,predlsr)-score)"
   ]
  },
  {
   "cell_type": "code",
   "execution_count": 88,
   "id": "2d49e0de",
   "metadata": {},
   "outputs": [
    {
     "name": "stdout",
     "output_type": "stream",
     "text": [
      "0.7500786955387843\n",
      "The CV score is: 74.87749762669638 \n",
      "The model score is: 75.00786955387842\n",
      "Difference is: 0.0013037192718204915\n"
     ]
    }
   ],
   "source": [
    "# Checking accuracy with Ridge Regressor\n",
    "from sklearn.linear_model import Ridge\n",
    "rdr=Ridge()\n",
    "rdr.fit(x_train,y_train)\n",
    "predrdr=rdr.predict(x_test)\n",
    "print(r2_score(y_test,predrdr))\n",
    "\n",
    "score=cross_val_score(rdr,x,y,cv=2).mean()\n",
    "print(\"The CV score is:\",score*100,\"\\nThe model score is:\",r2_score(y_test,predrdr)*100)\n",
    "print(\"Difference is:\",r2_score(y_test,predrdr)-score)"
   ]
  },
  {
   "cell_type": "markdown",
   "id": "05d97aa2",
   "metadata": {},
   "source": [
    "# Ensembling Techniques"
   ]
  },
  {
   "cell_type": "code",
   "execution_count": 93,
   "id": "1764e76e",
   "metadata": {},
   "outputs": [
    {
     "name": "stdout",
     "output_type": "stream",
     "text": [
      "0.8120951052571828\n",
      "The CV score is: 83.37123484662217 \n",
      "The model score is: 81.20951052571827\n",
      "Difference is: -0.021617243209038906\n"
     ]
    }
   ],
   "source": [
    "# Checking accuracy with Random Forest Regressor\n",
    "from sklearn.ensemble import RandomForestRegressor\n",
    "RFR=RandomForestRegressor()\n",
    "RFR.fit(x_train,y_train)\n",
    "predRFR=RFR.predict(x_test)\n",
    "print(r2_score(y_test,predRFR))\n",
    "\n",
    "score=cross_val_score(RFR,x,y,cv=2).mean()\n",
    "print(\"The CV score is:\",score*100,\"\\nThe model score is:\",r2_score(y_test,predRFR)*100)\n",
    "print(\"Difference is:\",r2_score(y_test,predRFR)-score)"
   ]
  },
  {
   "cell_type": "code",
   "execution_count": 90,
   "id": "7c250856",
   "metadata": {},
   "outputs": [
    {
     "name": "stdout",
     "output_type": "stream",
     "text": [
      "0.8126828939103135\n",
      "The CV score is: 81.21854772458373 \n",
      "The model score is: 81.26828939103135\n",
      "Difference is: 0.0004974166644761135\n"
     ]
    }
   ],
   "source": [
    "# Checking accuracy with Extra Trees Regressor\n",
    "from sklearn.ensemble import ExtraTreesRegressor\n",
    "ET=ExtraTreesRegressor()\n",
    "ET.fit(x_train,y_train)\n",
    "predET=ET.predict(x_test)\n",
    "print(r2_score(y_test,predET))\n",
    "\n",
    "score=cross_val_score(ET,x,y,cv=2).mean()\n",
    "print(\"The CV score is:\",score*100,\"\\nThe model score is:\",r2_score(y_test,predET)*100)\n",
    "print(\"Difference is:\",r2_score(y_test,predET)-score)"
   ]
  },
  {
   "cell_type": "code",
   "execution_count": 91,
   "id": "ce254b63",
   "metadata": {},
   "outputs": [
    {
     "name": "stdout",
     "output_type": "stream",
     "text": [
      "0.81315686282943\n",
      "The CV score is: 82.03410382142741 \n",
      "The model score is: 81.315686282943\n",
      "Difference is: -0.00718417538484406\n"
     ]
    }
   ],
   "source": [
    "# Checking accuracy with Ada Boosting Regressor\n",
    "from sklearn.ensemble import AdaBoostRegressor\n",
    "ABC=AdaBoostRegressor()\n",
    "ABC.fit(x_train,y_train)\n",
    "predABC=ABC.predict(x_test)\n",
    "print(r2_score(y_test,predABC))\n",
    "\n",
    "score=cross_val_score(ABC,x,y,cv=2).mean()\n",
    "print(\"The CV score is:\",score*100,\"\\nThe model score is:\",r2_score(y_test,predABC)*100)\n",
    "print(\"Difference is:\",r2_score(y_test,predABC)-score)"
   ]
  },
  {
   "cell_type": "code",
   "execution_count": 118,
   "id": "d66426f0",
   "metadata": {},
   "outputs": [],
   "source": [
    "#Observations: Out of all algorithms checked, RandomForestRegressor is selected for hyper parameter tuning as the difference between model and cross-validation score is less."
   ]
  },
  {
   "cell_type": "markdown",
   "id": "a5488885",
   "metadata": {},
   "source": [
    "# Hyper Parameter Tuning"
   ]
  },
  {
   "cell_type": "code",
   "execution_count": 95,
   "id": "a2410bbf",
   "metadata": {},
   "outputs": [
    {
     "name": "stdout",
     "output_type": "stream",
     "text": [
      "{'criterion': 'mse', 'max_features': 'log2'}\n"
     ]
    }
   ],
   "source": [
    "from sklearn.model_selection import GridSearchCV\n",
    "from sklearn.ensemble import RandomForestRegressor\n",
    "\n",
    "# Defining parameters for RandomForestRegressor\n",
    "parameters={'criterion':['mse','mae'],\n",
    "           'max_features':[\"auto\",\"sqrt\",\"log2\"]}\n",
    "rf=RandomForestRegressor()\n",
    "clf=GridSearchCV(rf,parameters)\n",
    "clf.fit(x_train,y_train)\n",
    "\n",
    "print(clf.best_params_)  # printing the best parameters"
   ]
  },
  {
   "cell_type": "code",
   "execution_count": 98,
   "id": "ab634ba7",
   "metadata": {},
   "outputs": [
    {
     "name": "stdout",
     "output_type": "stream",
     "text": [
      "R2 Score: 83.09260577790157\n",
      "Cross Val Score: 83.33000961537878\n",
      "Difference is: -0.002374038374772125\n"
     ]
    }
   ],
   "source": [
    "# Training the model using best parameters from GridSearchCV and checking the r2_score\n",
    "rf=RandomForestRegressor(criterion='mse',max_features='log2')\n",
    "rf.fit(x_train,y_train)\n",
    "rf.score(x_train,y_train)\n",
    "pred_decision=rf.predict(x_test)\n",
    "\n",
    "rfs=r2_score(y_test,pred_decision)\n",
    "print(\"R2 Score:\",rfs*100)\n",
    "\n",
    "rfscore=cross_val_score(rf,x,y,cv=2)\n",
    "rfc=rfscore.mean()\n",
    "print(\"Cross Val Score:\",rfc*100)\n",
    "print(\"Difference is:\",r2_score(y_test,pred_decision)-rfc)"
   ]
  },
  {
   "cell_type": "markdown",
   "id": "c802a88f",
   "metadata": {},
   "source": [
    "# Save Model"
   ]
  },
  {
   "cell_type": "code",
   "execution_count": 99,
   "id": "71f2f787",
   "metadata": {},
   "outputs": [],
   "source": [
    " # saving the hyperparameter tuned radom forest model\n",
    "    \n",
    "import pickle\n",
    "filename='medical_insurance_cost_prediction.pkl'\n",
    "pickle.dump(rf,open(filename,'wb'))"
   ]
  },
  {
   "cell_type": "markdown",
   "id": "7984b6fb",
   "metadata": {},
   "source": [
    "# Conclusion"
   ]
  },
  {
   "cell_type": "code",
   "execution_count": 100,
   "id": "71e3fe2e",
   "metadata": {},
   "outputs": [
    {
     "name": "stdout",
     "output_type": "stream",
     "text": [
      "83.09260577790157\n"
     ]
    },
    {
     "data": {
      "text/html": [
       "<div>\n",
       "<style scoped>\n",
       "    .dataframe tbody tr th:only-of-type {\n",
       "        vertical-align: middle;\n",
       "    }\n",
       "\n",
       "    .dataframe tbody tr th {\n",
       "        vertical-align: top;\n",
       "    }\n",
       "\n",
       "    .dataframe thead th {\n",
       "        text-align: right;\n",
       "    }\n",
       "</style>\n",
       "<table border=\"1\" class=\"dataframe\">\n",
       "  <thead>\n",
       "    <tr style=\"text-align: right;\">\n",
       "      <th></th>\n",
       "      <th>0</th>\n",
       "      <th>1</th>\n",
       "      <th>2</th>\n",
       "      <th>3</th>\n",
       "      <th>4</th>\n",
       "      <th>5</th>\n",
       "      <th>6</th>\n",
       "      <th>7</th>\n",
       "      <th>8</th>\n",
       "      <th>9</th>\n",
       "      <th>...</th>\n",
       "      <th>254</th>\n",
       "      <th>255</th>\n",
       "      <th>256</th>\n",
       "      <th>257</th>\n",
       "      <th>258</th>\n",
       "      <th>259</th>\n",
       "      <th>260</th>\n",
       "      <th>261</th>\n",
       "      <th>262</th>\n",
       "      <th>263</th>\n",
       "    </tr>\n",
       "  </thead>\n",
       "  <tbody>\n",
       "    <tr>\n",
       "      <th>Predicted</th>\n",
       "      <td>12103.781075</td>\n",
       "      <td>11847.169334</td>\n",
       "      <td>14734.733339</td>\n",
       "      <td>6421.953076</td>\n",
       "      <td>11427.105236</td>\n",
       "      <td>8007.669588</td>\n",
       "      <td>4456.980099</td>\n",
       "      <td>8780.861644</td>\n",
       "      <td>13346.787708</td>\n",
       "      <td>11674.533418</td>\n",
       "      <td>...</td>\n",
       "      <td>8774.928799</td>\n",
       "      <td>15679.019284</td>\n",
       "      <td>12360.871623</td>\n",
       "      <td>8814.987843</td>\n",
       "      <td>11546.397592</td>\n",
       "      <td>15678.412877</td>\n",
       "      <td>13987.396253</td>\n",
       "      <td>39637.938787</td>\n",
       "      <td>14950.447231</td>\n",
       "      <td>5008.984991</td>\n",
       "    </tr>\n",
       "    <tr>\n",
       "      <th>Original</th>\n",
       "      <td>27117.993780</td>\n",
       "      <td>11763.000900</td>\n",
       "      <td>13217.094500</td>\n",
       "      <td>4906.409650</td>\n",
       "      <td>9634.538000</td>\n",
       "      <td>4320.410850</td>\n",
       "      <td>2689.495400</td>\n",
       "      <td>8059.679100</td>\n",
       "      <td>10370.912550</td>\n",
       "      <td>8444.474000</td>\n",
       "      <td>...</td>\n",
       "      <td>8017.061150</td>\n",
       "      <td>20462.997660</td>\n",
       "      <td>11163.568000</td>\n",
       "      <td>6435.623700</td>\n",
       "      <td>8765.249000</td>\n",
       "      <td>12557.605300</td>\n",
       "      <td>13844.797200</td>\n",
       "      <td>42760.502200</td>\n",
       "      <td>14692.669350</td>\n",
       "      <td>4151.028700</td>\n",
       "    </tr>\n",
       "  </tbody>\n",
       "</table>\n",
       "<p>2 rows × 264 columns</p>\n",
       "</div>"
      ],
      "text/plain": [
       "                    0             1             2            3    \\\n",
       "Predicted  12103.781075  11847.169334  14734.733339  6421.953076   \n",
       "Original   27117.993780  11763.000900  13217.094500  4906.409650   \n",
       "\n",
       "                    4            5            6            7             8    \\\n",
       "Predicted  11427.105236  8007.669588  4456.980099  8780.861644  13346.787708   \n",
       "Original    9634.538000  4320.410850  2689.495400  8059.679100  10370.912550   \n",
       "\n",
       "                    9    ...          254           255           256  \\\n",
       "Predicted  11674.533418  ...  8774.928799  15679.019284  12360.871623   \n",
       "Original    8444.474000  ...  8017.061150  20462.997660  11163.568000   \n",
       "\n",
       "                   257           258           259           260  \\\n",
       "Predicted  8814.987843  11546.397592  15678.412877  13987.396253   \n",
       "Original   6435.623700   8765.249000  12557.605300  13844.797200   \n",
       "\n",
       "                    261           262          263  \n",
       "Predicted  39637.938787  14950.447231  5008.984991  \n",
       "Original   42760.502200  14692.669350  4151.028700  \n",
       "\n",
       "[2 rows x 264 columns]"
      ]
     },
     "execution_count": 100,
     "metadata": {},
     "output_type": "execute_result"
    }
   ],
   "source": [
    "loaded_model=pickle.load(open('medical_insurance_cost_prediction.pkl','rb'))\n",
    "result=loaded_model.score(x_test,y_test)\n",
    "print(result*100)\n",
    "\n",
    "conclusion=pd.DataFrame([loaded_model.predict(x_test)[:],y_test[:]],index=[\"Predicted\",\"Original\"])\n",
    "conclusion"
   ]
  },
  {
   "cell_type": "code",
   "execution_count": 119,
   "id": "455cfc43",
   "metadata": {},
   "outputs": [],
   "source": [
    "#Additional Notes:\n",
    "\n",
    "#1) As the dataset is small with 6 no. of x columns, multi collinearity is not checked and did not apply VIF to remove multi collinearity as this will lead to data loss.\n",
    "\n",
    "#2) Did not use PCA as the dataset is small."
   ]
  },
  {
   "cell_type": "code",
   "execution_count": null,
   "id": "c1da6cbe",
   "metadata": {},
   "outputs": [],
   "source": []
  }
 ],
 "metadata": {
  "kernelspec": {
   "display_name": "Python 3 (ipykernel)",
   "language": "python",
   "name": "python3"
  },
  "language_info": {
   "codemirror_mode": {
    "name": "ipython",
    "version": 3
   },
   "file_extension": ".py",
   "mimetype": "text/x-python",
   "name": "python",
   "nbconvert_exporter": "python",
   "pygments_lexer": "ipython3",
   "version": "3.9.12"
  }
 },
 "nbformat": 4,
 "nbformat_minor": 5
}
